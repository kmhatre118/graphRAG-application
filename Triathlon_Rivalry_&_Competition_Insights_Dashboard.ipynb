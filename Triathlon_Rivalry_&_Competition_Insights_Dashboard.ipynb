{
  "nbformat": 4,
  "nbformat_minor": 0,
  "metadata": {
    "colab": {
      "provenance": [],
      "gpuType": "T4"
    },
    "kernelspec": {
      "name": "python3",
      "display_name": "Python 3"
    },
    "language_info": {
      "name": "python"
    },
    "accelerator": "GPU"
  },
  "cells": [
    {
      "cell_type": "markdown",
      "metadata": {
        "id": "L4nmLCFf3HoC",
        "jp-MarkdownHeadingCollapsed": true
      },
      "source": [
        "### Part 0: Package Installation & setup"
      ]
    },
    {
      "cell_type": "code",
      "execution_count": null,
      "metadata": {
        "id": "pV0dx8Ny1q64",
        "colab": {
          "base_uri": "https://localhost:8080/"
        },
        "outputId": "3ad43a49-fb97-460c-bb7b-180f3d6b2109"
      },
      "outputs": [
        {
          "output_type": "stream",
          "name": "stdout",
          "text": [
            "Collecting nx-arangodb\n",
            "  Downloading nx_arangodb-1.3.0-py3-none-any.whl.metadata (9.3 kB)\n",
            "Collecting networkx<=3.4,>=3.0 (from nx-arangodb)\n",
            "  Downloading networkx-3.4-py3-none-any.whl.metadata (6.3 kB)\n",
            "Collecting phenolrs~=0.5 (from nx-arangodb)\n",
            "  Downloading phenolrs-0.5.9-cp311-cp311-manylinux_2_17_x86_64.manylinux2014_x86_64.whl.metadata (1.7 kB)\n",
            "Collecting python-arango~=8.1 (from nx-arangodb)\n",
            "  Downloading python_arango-8.1.6-py3-none-any.whl.metadata (8.2 kB)\n",
            "Collecting adbnx-adapter~=5.0.5 (from nx-arangodb)\n",
            "  Downloading adbnx_adapter-5.0.6-py3-none-any.whl.metadata (21 kB)\n",
            "Requirement already satisfied: requests>=2.27.1 in /usr/local/lib/python3.11/dist-packages (from adbnx-adapter~=5.0.5->nx-arangodb) (2.32.3)\n",
            "Requirement already satisfied: rich>=12.5.1 in /usr/local/lib/python3.11/dist-packages (from adbnx-adapter~=5.0.5->nx-arangodb) (13.9.4)\n",
            "Requirement already satisfied: setuptools>=45 in /usr/local/lib/python3.11/dist-packages (from adbnx-adapter~=5.0.5->nx-arangodb) (75.1.0)\n",
            "Requirement already satisfied: numpy~=1.26 in /usr/local/lib/python3.11/dist-packages (from phenolrs~=0.5->nx-arangodb) (1.26.4)\n",
            "Requirement already satisfied: urllib3>=1.26.0 in /usr/local/lib/python3.11/dist-packages (from python-arango~=8.1->nx-arangodb) (2.3.0)\n",
            "Requirement already satisfied: requests_toolbelt in /usr/local/lib/python3.11/dist-packages (from python-arango~=8.1->nx-arangodb) (1.0.0)\n",
            "Requirement already satisfied: PyJWT in /usr/local/lib/python3.11/dist-packages (from python-arango~=8.1->nx-arangodb) (2.10.1)\n",
            "Requirement already satisfied: importlib_metadata>=4.7.1 in /usr/local/lib/python3.11/dist-packages (from python-arango~=8.1->nx-arangodb) (8.6.1)\n",
            "Requirement already satisfied: packaging>=23.1 in /usr/local/lib/python3.11/dist-packages (from python-arango~=8.1->nx-arangodb) (24.2)\n",
            "Requirement already satisfied: zipp>=3.20 in /usr/local/lib/python3.11/dist-packages (from importlib_metadata>=4.7.1->python-arango~=8.1->nx-arangodb) (3.21.0)\n",
            "Requirement already satisfied: charset-normalizer<4,>=2 in /usr/local/lib/python3.11/dist-packages (from requests>=2.27.1->adbnx-adapter~=5.0.5->nx-arangodb) (3.4.1)\n",
            "Requirement already satisfied: idna<4,>=2.5 in /usr/local/lib/python3.11/dist-packages (from requests>=2.27.1->adbnx-adapter~=5.0.5->nx-arangodb) (3.10)\n",
            "Requirement already satisfied: certifi>=2017.4.17 in /usr/local/lib/python3.11/dist-packages (from requests>=2.27.1->adbnx-adapter~=5.0.5->nx-arangodb) (2025.1.31)\n",
            "Requirement already satisfied: markdown-it-py>=2.2.0 in /usr/local/lib/python3.11/dist-packages (from rich>=12.5.1->adbnx-adapter~=5.0.5->nx-arangodb) (3.0.0)\n",
            "Requirement already satisfied: pygments<3.0.0,>=2.13.0 in /usr/local/lib/python3.11/dist-packages (from rich>=12.5.1->adbnx-adapter~=5.0.5->nx-arangodb) (2.18.0)\n",
            "Requirement already satisfied: mdurl~=0.1 in /usr/local/lib/python3.11/dist-packages (from markdown-it-py>=2.2.0->rich>=12.5.1->adbnx-adapter~=5.0.5->nx-arangodb) (0.1.2)\n",
            "Downloading nx_arangodb-1.3.0-py3-none-any.whl (67 kB)\n",
            "\u001b[2K   \u001b[90m━━━━━━━━━━━━━━━━━━━━━━━━━━━━━━━━━━━━━━━━\u001b[0m \u001b[32m67.8/67.8 kB\u001b[0m \u001b[31m2.6 MB/s\u001b[0m eta \u001b[36m0:00:00\u001b[0m\n",
            "\u001b[?25hDownloading adbnx_adapter-5.0.6-py3-none-any.whl (21 kB)\n",
            "Downloading networkx-3.4-py3-none-any.whl (1.7 MB)\n",
            "\u001b[2K   \u001b[90m━━━━━━━━━━━━━━━━━━━━━━━━━━━━━━━━━━━━━━━━\u001b[0m \u001b[32m1.7/1.7 MB\u001b[0m \u001b[31m25.3 MB/s\u001b[0m eta \u001b[36m0:00:00\u001b[0m\n",
            "\u001b[?25hDownloading phenolrs-0.5.9-cp311-cp311-manylinux_2_17_x86_64.manylinux2014_x86_64.whl (4.7 MB)\n",
            "\u001b[2K   \u001b[90m━━━━━━━━━━━━━━━━━━━━━━━━━━━━━━━━━━━━━━━━\u001b[0m \u001b[32m4.7/4.7 MB\u001b[0m \u001b[31m36.3 MB/s\u001b[0m eta \u001b[36m0:00:00\u001b[0m\n",
            "\u001b[?25hDownloading python_arango-8.1.6-py3-none-any.whl (114 kB)\n",
            "\u001b[2K   \u001b[90m━━━━━━━━━━━━━━━━━━━━━━━━━━━━━━━━━━━━━━━━\u001b[0m \u001b[32m114.6/114.6 kB\u001b[0m \u001b[31m6.6 MB/s\u001b[0m eta \u001b[36m0:00:00\u001b[0m\n",
            "\u001b[?25hInstalling collected packages: networkx, python-arango, phenolrs, adbnx-adapter, nx-arangodb\n",
            "  Attempting uninstall: networkx\n",
            "    Found existing installation: networkx 3.4.2\n",
            "    Uninstalling networkx-3.4.2:\n",
            "      Successfully uninstalled networkx-3.4.2\n",
            "\u001b[31mERROR: pip's dependency resolver does not currently take into account all the packages that are installed. This behaviour is the source of the following dependency conflicts.\n",
            "torch 2.5.1+cu124 requires nvidia-cublas-cu12==12.4.5.8; platform_system == \"Linux\" and platform_machine == \"x86_64\", but you have nvidia-cublas-cu12 12.5.3.2 which is incompatible.\n",
            "torch 2.5.1+cu124 requires nvidia-cuda-cupti-cu12==12.4.127; platform_system == \"Linux\" and platform_machine == \"x86_64\", but you have nvidia-cuda-cupti-cu12 12.5.82 which is incompatible.\n",
            "torch 2.5.1+cu124 requires nvidia-cuda-nvrtc-cu12==12.4.127; platform_system == \"Linux\" and platform_machine == \"x86_64\", but you have nvidia-cuda-nvrtc-cu12 12.5.82 which is incompatible.\n",
            "torch 2.5.1+cu124 requires nvidia-cuda-runtime-cu12==12.4.127; platform_system == \"Linux\" and platform_machine == \"x86_64\", but you have nvidia-cuda-runtime-cu12 12.5.82 which is incompatible.\n",
            "torch 2.5.1+cu124 requires nvidia-cudnn-cu12==9.1.0.70; platform_system == \"Linux\" and platform_machine == \"x86_64\", but you have nvidia-cudnn-cu12 9.3.0.75 which is incompatible.\n",
            "torch 2.5.1+cu124 requires nvidia-cufft-cu12==11.2.1.3; platform_system == \"Linux\" and platform_machine == \"x86_64\", but you have nvidia-cufft-cu12 11.2.3.61 which is incompatible.\n",
            "torch 2.5.1+cu124 requires nvidia-curand-cu12==10.3.5.147; platform_system == \"Linux\" and platform_machine == \"x86_64\", but you have nvidia-curand-cu12 10.3.6.82 which is incompatible.\n",
            "torch 2.5.1+cu124 requires nvidia-cusolver-cu12==11.6.1.9; platform_system == \"Linux\" and platform_machine == \"x86_64\", but you have nvidia-cusolver-cu12 11.6.3.83 which is incompatible.\n",
            "torch 2.5.1+cu124 requires nvidia-cusparse-cu12==12.3.1.170; platform_system == \"Linux\" and platform_machine == \"x86_64\", but you have nvidia-cusparse-cu12 12.5.1.3 which is incompatible.\n",
            "torch 2.5.1+cu124 requires nvidia-nvjitlink-cu12==12.4.127; platform_system == \"Linux\" and platform_machine == \"x86_64\", but you have nvidia-nvjitlink-cu12 12.5.82 which is incompatible.\u001b[0m\u001b[31m\n",
            "\u001b[0mSuccessfully installed adbnx-adapter-5.0.6 networkx-3.4 nx-arangodb-1.3.0 phenolrs-0.5.9 python-arango-8.1.6\n"
          ]
        }
      ],
      "source": [
        "# 1. Install nx-arangodb via pip\n",
        "# Github: https://github.com/arangodb/nx-arangodb\n",
        "\n",
        "!pip install nx-arangodb"
      ]
    },
    {
      "cell_type": "code",
      "source": [
        "# 2. Install gradio and matplotlib\n",
        "!pip install gradio matplotlib"
      ],
      "metadata": {
        "colab": {
          "base_uri": "https://localhost:8080/"
        },
        "id": "Nh--UUcHuZkN",
        "outputId": "12223636-c4a9-4125-f6f8-de68f6240e46"
      },
      "execution_count": null,
      "outputs": [
        {
          "output_type": "stream",
          "name": "stdout",
          "text": [
            "Collecting gradio\n",
            "  Downloading gradio-5.20.0-py3-none-any.whl.metadata (16 kB)\n",
            "Requirement already satisfied: matplotlib in /usr/local/lib/python3.11/dist-packages (3.10.0)\n",
            "Collecting aiofiles<24.0,>=22.0 (from gradio)\n",
            "  Downloading aiofiles-23.2.1-py3-none-any.whl.metadata (9.7 kB)\n",
            "Requirement already satisfied: anyio<5.0,>=3.0 in /usr/local/lib/python3.11/dist-packages (from gradio) (3.7.1)\n",
            "Collecting fastapi<1.0,>=0.115.2 (from gradio)\n",
            "  Downloading fastapi-0.115.11-py3-none-any.whl.metadata (27 kB)\n",
            "Collecting ffmpy (from gradio)\n",
            "  Downloading ffmpy-0.5.0-py3-none-any.whl.metadata (3.0 kB)\n",
            "Collecting gradio-client==1.7.2 (from gradio)\n",
            "  Downloading gradio_client-1.7.2-py3-none-any.whl.metadata (7.1 kB)\n",
            "Collecting groovy~=0.1 (from gradio)\n",
            "  Downloading groovy-0.1.2-py3-none-any.whl.metadata (6.1 kB)\n",
            "Requirement already satisfied: httpx>=0.24.1 in /usr/local/lib/python3.11/dist-packages (from gradio) (0.28.1)\n",
            "Requirement already satisfied: huggingface-hub>=0.28.1 in /usr/local/lib/python3.11/dist-packages (from gradio) (0.28.1)\n",
            "Requirement already satisfied: jinja2<4.0 in /usr/local/lib/python3.11/dist-packages (from gradio) (3.1.5)\n",
            "Collecting markupsafe~=2.0 (from gradio)\n",
            "  Downloading MarkupSafe-2.1.5-cp311-cp311-manylinux_2_17_x86_64.manylinux2014_x86_64.whl.metadata (3.0 kB)\n",
            "Requirement already satisfied: numpy<3.0,>=1.0 in /usr/local/lib/python3.11/dist-packages (from gradio) (1.26.4)\n",
            "Requirement already satisfied: orjson~=3.0 in /usr/local/lib/python3.11/dist-packages (from gradio) (3.10.15)\n",
            "Requirement already satisfied: packaging in /usr/local/lib/python3.11/dist-packages (from gradio) (24.2)\n",
            "Requirement already satisfied: pandas<3.0,>=1.0 in /usr/local/lib/python3.11/dist-packages (from gradio) (2.2.2)\n",
            "Requirement already satisfied: pillow<12.0,>=8.0 in /usr/local/lib/python3.11/dist-packages (from gradio) (11.1.0)\n",
            "Requirement already satisfied: pydantic>=2.0 in /usr/local/lib/python3.11/dist-packages (from gradio) (2.10.6)\n",
            "Collecting pydub (from gradio)\n",
            "  Downloading pydub-0.25.1-py2.py3-none-any.whl.metadata (1.4 kB)\n",
            "Collecting python-multipart>=0.0.18 (from gradio)\n",
            "  Downloading python_multipart-0.0.20-py3-none-any.whl.metadata (1.8 kB)\n",
            "Requirement already satisfied: pyyaml<7.0,>=5.0 in /usr/local/lib/python3.11/dist-packages (from gradio) (6.0.2)\n",
            "Collecting ruff>=0.9.3 (from gradio)\n",
            "  Downloading ruff-0.9.9-py3-none-manylinux_2_17_x86_64.manylinux2014_x86_64.whl.metadata (25 kB)\n",
            "Collecting safehttpx<0.2.0,>=0.1.6 (from gradio)\n",
            "  Downloading safehttpx-0.1.6-py3-none-any.whl.metadata (4.2 kB)\n",
            "Collecting semantic-version~=2.0 (from gradio)\n",
            "  Downloading semantic_version-2.10.0-py2.py3-none-any.whl.metadata (9.7 kB)\n",
            "Collecting starlette<1.0,>=0.40.0 (from gradio)\n",
            "  Downloading starlette-0.46.0-py3-none-any.whl.metadata (6.2 kB)\n",
            "Collecting tomlkit<0.14.0,>=0.12.0 (from gradio)\n",
            "  Downloading tomlkit-0.13.2-py3-none-any.whl.metadata (2.7 kB)\n",
            "Requirement already satisfied: typer<1.0,>=0.12 in /usr/local/lib/python3.11/dist-packages (from gradio) (0.15.1)\n",
            "Requirement already satisfied: typing-extensions~=4.0 in /usr/local/lib/python3.11/dist-packages (from gradio) (4.12.2)\n",
            "Collecting uvicorn>=0.14.0 (from gradio)\n",
            "  Downloading uvicorn-0.34.0-py3-none-any.whl.metadata (6.5 kB)\n",
            "Requirement already satisfied: fsspec in /usr/local/lib/python3.11/dist-packages (from gradio-client==1.7.2->gradio) (2024.10.0)\n",
            "Requirement already satisfied: websockets<16.0,>=10.0 in /usr/local/lib/python3.11/dist-packages (from gradio-client==1.7.2->gradio) (14.2)\n",
            "Requirement already satisfied: contourpy>=1.0.1 in /usr/local/lib/python3.11/dist-packages (from matplotlib) (1.3.1)\n",
            "Requirement already satisfied: cycler>=0.10 in /usr/local/lib/python3.11/dist-packages (from matplotlib) (0.12.1)\n",
            "Requirement already satisfied: fonttools>=4.22.0 in /usr/local/lib/python3.11/dist-packages (from matplotlib) (4.56.0)\n",
            "Requirement already satisfied: kiwisolver>=1.3.1 in /usr/local/lib/python3.11/dist-packages (from matplotlib) (1.4.8)\n",
            "Requirement already satisfied: pyparsing>=2.3.1 in /usr/local/lib/python3.11/dist-packages (from matplotlib) (3.2.1)\n",
            "Requirement already satisfied: python-dateutil>=2.7 in /usr/local/lib/python3.11/dist-packages (from matplotlib) (2.8.2)\n",
            "Requirement already satisfied: idna>=2.8 in /usr/local/lib/python3.11/dist-packages (from anyio<5.0,>=3.0->gradio) (3.10)\n",
            "Requirement already satisfied: sniffio>=1.1 in /usr/local/lib/python3.11/dist-packages (from anyio<5.0,>=3.0->gradio) (1.3.1)\n",
            "Requirement already satisfied: certifi in /usr/local/lib/python3.11/dist-packages (from httpx>=0.24.1->gradio) (2025.1.31)\n",
            "Requirement already satisfied: httpcore==1.* in /usr/local/lib/python3.11/dist-packages (from httpx>=0.24.1->gradio) (1.0.7)\n",
            "Requirement already satisfied: h11<0.15,>=0.13 in /usr/local/lib/python3.11/dist-packages (from httpcore==1.*->httpx>=0.24.1->gradio) (0.14.0)\n",
            "Requirement already satisfied: filelock in /usr/local/lib/python3.11/dist-packages (from huggingface-hub>=0.28.1->gradio) (3.17.0)\n",
            "Requirement already satisfied: requests in /usr/local/lib/python3.11/dist-packages (from huggingface-hub>=0.28.1->gradio) (2.32.3)\n",
            "Requirement already satisfied: tqdm>=4.42.1 in /usr/local/lib/python3.11/dist-packages (from huggingface-hub>=0.28.1->gradio) (4.67.1)\n",
            "Requirement already satisfied: pytz>=2020.1 in /usr/local/lib/python3.11/dist-packages (from pandas<3.0,>=1.0->gradio) (2025.1)\n",
            "Requirement already satisfied: tzdata>=2022.7 in /usr/local/lib/python3.11/dist-packages (from pandas<3.0,>=1.0->gradio) (2025.1)\n",
            "Requirement already satisfied: annotated-types>=0.6.0 in /usr/local/lib/python3.11/dist-packages (from pydantic>=2.0->gradio) (0.7.0)\n",
            "Requirement already satisfied: pydantic-core==2.27.2 in /usr/local/lib/python3.11/dist-packages (from pydantic>=2.0->gradio) (2.27.2)\n",
            "Requirement already satisfied: six>=1.5 in /usr/local/lib/python3.11/dist-packages (from python-dateutil>=2.7->matplotlib) (1.17.0)\n",
            "Requirement already satisfied: click>=8.0.0 in /usr/local/lib/python3.11/dist-packages (from typer<1.0,>=0.12->gradio) (8.1.8)\n",
            "Requirement already satisfied: shellingham>=1.3.0 in /usr/local/lib/python3.11/dist-packages (from typer<1.0,>=0.12->gradio) (1.5.4)\n",
            "Requirement already satisfied: rich>=10.11.0 in /usr/local/lib/python3.11/dist-packages (from typer<1.0,>=0.12->gradio) (13.9.4)\n",
            "Requirement already satisfied: markdown-it-py>=2.2.0 in /usr/local/lib/python3.11/dist-packages (from rich>=10.11.0->typer<1.0,>=0.12->gradio) (3.0.0)\n",
            "Requirement already satisfied: pygments<3.0.0,>=2.13.0 in /usr/local/lib/python3.11/dist-packages (from rich>=10.11.0->typer<1.0,>=0.12->gradio) (2.18.0)\n",
            "Requirement already satisfied: charset-normalizer<4,>=2 in /usr/local/lib/python3.11/dist-packages (from requests->huggingface-hub>=0.28.1->gradio) (3.4.1)\n",
            "Requirement already satisfied: urllib3<3,>=1.21.1 in /usr/local/lib/python3.11/dist-packages (from requests->huggingface-hub>=0.28.1->gradio) (2.3.0)\n",
            "Requirement already satisfied: mdurl~=0.1 in /usr/local/lib/python3.11/dist-packages (from markdown-it-py>=2.2.0->rich>=10.11.0->typer<1.0,>=0.12->gradio) (0.1.2)\n",
            "Downloading gradio-5.20.0-py3-none-any.whl (62.3 MB)\n",
            "\u001b[2K   \u001b[90m━━━━━━━━━━━━━━━━━━━━━━━━━━━━━━━━━━━━━━━━\u001b[0m \u001b[32m62.3/62.3 MB\u001b[0m \u001b[31m16.2 MB/s\u001b[0m eta \u001b[36m0:00:00\u001b[0m\n",
            "\u001b[?25hDownloading gradio_client-1.7.2-py3-none-any.whl (322 kB)\n",
            "\u001b[2K   \u001b[90m━━━━━━━━━━━━━━━━━━━━━━━━━━━━━━━━━━━━━━━━\u001b[0m \u001b[32m322.1/322.1 kB\u001b[0m \u001b[31m25.8 MB/s\u001b[0m eta \u001b[36m0:00:00\u001b[0m\n",
            "\u001b[?25hDownloading aiofiles-23.2.1-py3-none-any.whl (15 kB)\n",
            "Downloading fastapi-0.115.11-py3-none-any.whl (94 kB)\n",
            "\u001b[2K   \u001b[90m━━━━━━━━━━━━━━━━━━━━━━━━━━━━━━━━━━━━━━━━\u001b[0m \u001b[32m94.9/94.9 kB\u001b[0m \u001b[31m10.0 MB/s\u001b[0m eta \u001b[36m0:00:00\u001b[0m\n",
            "\u001b[?25hDownloading groovy-0.1.2-py3-none-any.whl (14 kB)\n",
            "Downloading MarkupSafe-2.1.5-cp311-cp311-manylinux_2_17_x86_64.manylinux2014_x86_64.whl (28 kB)\n",
            "Downloading python_multipart-0.0.20-py3-none-any.whl (24 kB)\n",
            "Downloading ruff-0.9.9-py3-none-manylinux_2_17_x86_64.manylinux2014_x86_64.whl (11.2 MB)\n",
            "\u001b[2K   \u001b[90m━━━━━━━━━━━━━━━━━━━━━━━━━━━━━━━━━━━━━━━━\u001b[0m \u001b[32m11.2/11.2 MB\u001b[0m \u001b[31m108.4 MB/s\u001b[0m eta \u001b[36m0:00:00\u001b[0m\n",
            "\u001b[?25hDownloading safehttpx-0.1.6-py3-none-any.whl (8.7 kB)\n",
            "Downloading semantic_version-2.10.0-py2.py3-none-any.whl (15 kB)\n",
            "Downloading starlette-0.46.0-py3-none-any.whl (71 kB)\n",
            "\u001b[2K   \u001b[90m━━━━━━━━━━━━━━━━━━━━━━━━━━━━━━━━━━━━━━━━\u001b[0m \u001b[32m72.0/72.0 kB\u001b[0m \u001b[31m7.1 MB/s\u001b[0m eta \u001b[36m0:00:00\u001b[0m\n",
            "\u001b[?25hDownloading tomlkit-0.13.2-py3-none-any.whl (37 kB)\n",
            "Downloading uvicorn-0.34.0-py3-none-any.whl (62 kB)\n",
            "\u001b[2K   \u001b[90m━━━━━━━━━━━━━━━━━━━━━━━━━━━━━━━━━━━━━━━━\u001b[0m \u001b[32m62.3/62.3 kB\u001b[0m \u001b[31m6.2 MB/s\u001b[0m eta \u001b[36m0:00:00\u001b[0m\n",
            "\u001b[?25hDownloading ffmpy-0.5.0-py3-none-any.whl (6.0 kB)\n",
            "Downloading pydub-0.25.1-py2.py3-none-any.whl (32 kB)\n",
            "Installing collected packages: pydub, uvicorn, tomlkit, semantic-version, ruff, python-multipart, markupsafe, groovy, ffmpy, aiofiles, starlette, safehttpx, gradio-client, fastapi, gradio\n",
            "  Attempting uninstall: markupsafe\n",
            "    Found existing installation: MarkupSafe 3.0.2\n",
            "    Uninstalling MarkupSafe-3.0.2:\n",
            "      Successfully uninstalled MarkupSafe-3.0.2\n",
            "Successfully installed aiofiles-23.2.1 fastapi-0.115.11 ffmpy-0.5.0 gradio-5.20.0 gradio-client-1.7.2 groovy-0.1.2 markupsafe-2.1.5 pydub-0.25.1 python-multipart-0.0.20 ruff-0.9.9 safehttpx-0.1.6 semantic-version-2.10.0 starlette-0.46.0 tomlkit-0.13.2 uvicorn-0.34.0\n"
          ]
        }
      ]
    },
    {
      "cell_type": "code",
      "execution_count": null,
      "metadata": {
        "id": "OPJ_wCdHZ-6N",
        "colab": {
          "base_uri": "https://localhost:8080/"
        },
        "outputId": "479f31d2-a4f9-461e-c907-e710a67853a9"
      },
      "outputs": [
        {
          "output_type": "stream",
          "name": "stdout",
          "text": [
            "Tue Mar  4 19:23:49 2025       \n",
            "+-----------------------------------------------------------------------------------------+\n",
            "| NVIDIA-SMI 550.54.15              Driver Version: 550.54.15      CUDA Version: 12.4     |\n",
            "|-----------------------------------------+------------------------+----------------------+\n",
            "| GPU  Name                 Persistence-M | Bus-Id          Disp.A | Volatile Uncorr. ECC |\n",
            "| Fan  Temp   Perf          Pwr:Usage/Cap |           Memory-Usage | GPU-Util  Compute M. |\n",
            "|                                         |                        |               MIG M. |\n",
            "|=========================================+========================+======================|\n",
            "|   0  Tesla T4                       Off |   00000000:00:04.0 Off |                    0 |\n",
            "| N/A   45C    P8              9W /   70W |       0MiB /  15360MiB |      0%      Default |\n",
            "|                                         |                        |                  N/A |\n",
            "+-----------------------------------------+------------------------+----------------------+\n",
            "                                                                                         \n",
            "+-----------------------------------------------------------------------------------------+\n",
            "| Processes:                                                                              |\n",
            "|  GPU   GI   CI        PID   Type   Process name                              GPU Memory |\n",
            "|        ID   ID                                                               Usage      |\n",
            "|=========================================================================================|\n",
            "|  No running processes found                                                             |\n",
            "+-----------------------------------------------------------------------------------------+\n",
            "nvcc: NVIDIA (R) Cuda compiler driver\n",
            "Copyright (c) 2005-2024 NVIDIA Corporation\n",
            "Built on Thu_Jun__6_02:18:23_PDT_2024\n",
            "Cuda compilation tools, release 12.5, V12.5.82\n",
            "Build cuda_12.5.r12.5/compiler.34385749_0\n"
          ]
        }
      ],
      "source": [
        "# 3. Check if you have an NVIDIA GPU\n",
        "# Note: If this returns \"command not found\", then GPU-based algorithms via cuGraph are unavailable\n",
        "\n",
        "!nvidia-smi\n",
        "!nvcc --version"
      ]
    },
    {
      "cell_type": "code",
      "execution_count": null,
      "metadata": {
        "id": "r9bGvzVIZ-6O",
        "colab": {
          "base_uri": "https://localhost:8080/"
        },
        "outputId": "a4b8bb34-6040-42ee-f71f-ca171581e538"
      },
      "outputs": [
        {
          "output_type": "stream",
          "name": "stdout",
          "text": [
            "Looking in indexes: https://pypi.org/simple, https://pypi.nvidia.com\n",
            "Requirement already satisfied: nx-cugraph-cu12 in /usr/local/lib/python3.11/dist-packages (24.12.0)\n",
            "Requirement already satisfied: cupy-cuda12x>=12.0.0 in /usr/local/lib/python3.11/dist-packages (from nx-cugraph-cu12) (13.3.0)\n",
            "Requirement already satisfied: networkx>=3.2 in /usr/local/lib/python3.11/dist-packages (from nx-cugraph-cu12) (3.4)\n",
            "Requirement already satisfied: numpy<3.0a0,>=1.23 in /usr/local/lib/python3.11/dist-packages (from nx-cugraph-cu12) (1.26.4)\n",
            "Requirement already satisfied: pylibcugraph-cu12==24.12.* in /usr/local/lib/python3.11/dist-packages (from nx-cugraph-cu12) (24.12.0)\n",
            "Requirement already satisfied: nvidia-cublas-cu12 in /usr/local/lib/python3.11/dist-packages (from pylibcugraph-cu12==24.12.*->nx-cugraph-cu12) (12.5.3.2)\n",
            "Requirement already satisfied: nvidia-curand-cu12 in /usr/local/lib/python3.11/dist-packages (from pylibcugraph-cu12==24.12.*->nx-cugraph-cu12) (10.3.6.82)\n",
            "Requirement already satisfied: nvidia-cusolver-cu12 in /usr/local/lib/python3.11/dist-packages (from pylibcugraph-cu12==24.12.*->nx-cugraph-cu12) (11.6.3.83)\n",
            "Requirement already satisfied: nvidia-cusparse-cu12 in /usr/local/lib/python3.11/dist-packages (from pylibcugraph-cu12==24.12.*->nx-cugraph-cu12) (12.5.1.3)\n",
            "Requirement already satisfied: pylibraft-cu12==24.12.* in /usr/local/lib/python3.11/dist-packages (from pylibcugraph-cu12==24.12.*->nx-cugraph-cu12) (24.12.0)\n",
            "Requirement already satisfied: rmm-cu12==24.12.* in /usr/local/lib/python3.11/dist-packages (from pylibcugraph-cu12==24.12.*->nx-cugraph-cu12) (24.12.1)\n",
            "Requirement already satisfied: cuda-python<13.0a0,<=12.6.0,>=12.0 in /usr/local/lib/python3.11/dist-packages (from pylibraft-cu12==24.12.*->pylibcugraph-cu12==24.12.*->nx-cugraph-cu12) (12.6.0)\n",
            "Requirement already satisfied: numba>=0.57 in /usr/local/lib/python3.11/dist-packages (from rmm-cu12==24.12.*->pylibcugraph-cu12==24.12.*->nx-cugraph-cu12) (0.61.0)\n",
            "Requirement already satisfied: fastrlock>=0.5 in /usr/local/lib/python3.11/dist-packages (from cupy-cuda12x>=12.0.0->nx-cugraph-cu12) (0.8.3)\n",
            "Requirement already satisfied: nvidia-nvjitlink-cu12 in /usr/local/lib/python3.11/dist-packages (from nvidia-cusolver-cu12->pylibcugraph-cu12==24.12.*->nx-cugraph-cu12) (12.5.82)\n",
            "Requirement already satisfied: llvmlite<0.45,>=0.44.0dev0 in /usr/local/lib/python3.11/dist-packages (from numba>=0.57->rmm-cu12==24.12.*->pylibcugraph-cu12==24.12.*->nx-cugraph-cu12) (0.44.0)\n"
          ]
        }
      ],
      "source": [
        "# 4. Install nx-cugraph via pip\n",
        "# Note: Only enable this installation if the step above is working!\n",
        "\n",
        "!pip install nx-cugraph-cu12 --extra-index-url https://pypi.nvidia.com # Requires CUDA-capable GPU"
      ]
    },
    {
      "cell_type": "code",
      "execution_count": null,
      "metadata": {
        "id": "vkTIWkePZ-6O",
        "colab": {
          "base_uri": "https://localhost:8080/"
        },
        "outputId": "364fad17-244d-40c9-915d-37934fe3e4a6"
      },
      "outputs": [
        {
          "output_type": "stream",
          "name": "stdout",
          "text": [
            "Requirement already satisfied: langchain in /usr/local/lib/python3.11/dist-packages (0.3.19)\n",
            "Collecting langchain\n",
            "  Downloading langchain-0.3.20-py3-none-any.whl.metadata (7.7 kB)\n",
            "Collecting langchain-community\n",
            "  Downloading langchain_community-0.3.19-py3-none-any.whl.metadata (2.4 kB)\n",
            "Collecting langchain-openai\n",
            "  Downloading langchain_openai-0.3.7-py3-none-any.whl.metadata (2.3 kB)\n",
            "Collecting langgraph\n",
            "  Downloading langgraph-0.3.3-py3-none-any.whl.metadata (17 kB)\n",
            "Collecting langchain-core<1.0.0,>=0.3.41 (from langchain)\n",
            "  Downloading langchain_core-0.3.41-py3-none-any.whl.metadata (5.9 kB)\n",
            "Requirement already satisfied: langchain-text-splitters<1.0.0,>=0.3.6 in /usr/local/lib/python3.11/dist-packages (from langchain) (0.3.6)\n",
            "Requirement already satisfied: langsmith<0.4,>=0.1.17 in /usr/local/lib/python3.11/dist-packages (from langchain) (0.3.11)\n",
            "Requirement already satisfied: pydantic<3.0.0,>=2.7.4 in /usr/local/lib/python3.11/dist-packages (from langchain) (2.10.6)\n",
            "Requirement already satisfied: SQLAlchemy<3,>=1.4 in /usr/local/lib/python3.11/dist-packages (from langchain) (2.0.38)\n",
            "Requirement already satisfied: requests<3,>=2 in /usr/local/lib/python3.11/dist-packages (from langchain) (2.32.3)\n",
            "Requirement already satisfied: PyYAML>=5.3 in /usr/local/lib/python3.11/dist-packages (from langchain) (6.0.2)\n",
            "Requirement already satisfied: aiohttp<4.0.0,>=3.8.3 in /usr/local/lib/python3.11/dist-packages (from langchain-community) (3.11.13)\n",
            "Requirement already satisfied: tenacity!=8.4.0,<10,>=8.1.0 in /usr/local/lib/python3.11/dist-packages (from langchain-community) (9.0.0)\n",
            "Collecting dataclasses-json<0.7,>=0.5.7 (from langchain-community)\n",
            "  Downloading dataclasses_json-0.6.7-py3-none-any.whl.metadata (25 kB)\n",
            "Collecting pydantic-settings<3.0.0,>=2.4.0 (from langchain-community)\n",
            "  Downloading pydantic_settings-2.8.1-py3-none-any.whl.metadata (3.5 kB)\n",
            "Collecting httpx-sse<1.0.0,>=0.4.0 (from langchain-community)\n",
            "  Downloading httpx_sse-0.4.0-py3-none-any.whl.metadata (9.0 kB)\n",
            "Requirement already satisfied: numpy<3,>=1.26.2 in /usr/local/lib/python3.11/dist-packages (from langchain-community) (1.26.4)\n",
            "Requirement already satisfied: openai<2.0.0,>=1.58.1 in /usr/local/lib/python3.11/dist-packages (from langchain-openai) (1.61.1)\n",
            "Collecting tiktoken<1,>=0.7 (from langchain-openai)\n",
            "  Downloading tiktoken-0.9.0-cp311-cp311-manylinux_2_17_x86_64.manylinux2014_x86_64.whl.metadata (6.7 kB)\n",
            "Collecting langgraph-checkpoint<3.0.0,>=2.0.10 (from langgraph)\n",
            "  Downloading langgraph_checkpoint-2.0.16-py3-none-any.whl.metadata (4.6 kB)\n",
            "Collecting langgraph-prebuilt<0.2,>=0.1.1 (from langgraph)\n",
            "  Downloading langgraph_prebuilt-0.1.1-py3-none-any.whl.metadata (5.0 kB)\n",
            "Collecting langgraph-sdk<0.2.0,>=0.1.42 (from langgraph)\n",
            "  Downloading langgraph_sdk-0.1.53-py3-none-any.whl.metadata (1.8 kB)\n",
            "Requirement already satisfied: aiohappyeyeballs>=2.3.0 in /usr/local/lib/python3.11/dist-packages (from aiohttp<4.0.0,>=3.8.3->langchain-community) (2.4.6)\n",
            "Requirement already satisfied: aiosignal>=1.1.2 in /usr/local/lib/python3.11/dist-packages (from aiohttp<4.0.0,>=3.8.3->langchain-community) (1.3.2)\n",
            "Requirement already satisfied: attrs>=17.3.0 in /usr/local/lib/python3.11/dist-packages (from aiohttp<4.0.0,>=3.8.3->langchain-community) (25.1.0)\n",
            "Requirement already satisfied: frozenlist>=1.1.1 in /usr/local/lib/python3.11/dist-packages (from aiohttp<4.0.0,>=3.8.3->langchain-community) (1.5.0)\n",
            "Requirement already satisfied: multidict<7.0,>=4.5 in /usr/local/lib/python3.11/dist-packages (from aiohttp<4.0.0,>=3.8.3->langchain-community) (6.1.0)\n",
            "Requirement already satisfied: propcache>=0.2.0 in /usr/local/lib/python3.11/dist-packages (from aiohttp<4.0.0,>=3.8.3->langchain-community) (0.3.0)\n",
            "Requirement already satisfied: yarl<2.0,>=1.17.0 in /usr/local/lib/python3.11/dist-packages (from aiohttp<4.0.0,>=3.8.3->langchain-community) (1.18.3)\n",
            "Collecting marshmallow<4.0.0,>=3.18.0 (from dataclasses-json<0.7,>=0.5.7->langchain-community)\n",
            "  Downloading marshmallow-3.26.1-py3-none-any.whl.metadata (7.3 kB)\n",
            "Collecting typing-inspect<1,>=0.4.0 (from dataclasses-json<0.7,>=0.5.7->langchain-community)\n",
            "  Downloading typing_inspect-0.9.0-py3-none-any.whl.metadata (1.5 kB)\n",
            "Requirement already satisfied: jsonpatch<2.0,>=1.33 in /usr/local/lib/python3.11/dist-packages (from langchain-core<1.0.0,>=0.3.41->langchain) (1.33)\n",
            "Requirement already satisfied: packaging<25,>=23.2 in /usr/local/lib/python3.11/dist-packages (from langchain-core<1.0.0,>=0.3.41->langchain) (24.2)\n",
            "Requirement already satisfied: typing-extensions>=4.7 in /usr/local/lib/python3.11/dist-packages (from langchain-core<1.0.0,>=0.3.41->langchain) (4.12.2)\n",
            "Requirement already satisfied: msgpack<2.0.0,>=1.1.0 in /usr/local/lib/python3.11/dist-packages (from langgraph-checkpoint<3.0.0,>=2.0.10->langgraph) (1.1.0)\n",
            "Requirement already satisfied: httpx>=0.25.2 in /usr/local/lib/python3.11/dist-packages (from langgraph-sdk<0.2.0,>=0.1.42->langgraph) (0.28.1)\n",
            "Requirement already satisfied: orjson>=3.10.1 in /usr/local/lib/python3.11/dist-packages (from langgraph-sdk<0.2.0,>=0.1.42->langgraph) (3.10.15)\n",
            "Requirement already satisfied: requests-toolbelt<2.0.0,>=1.0.0 in /usr/local/lib/python3.11/dist-packages (from langsmith<0.4,>=0.1.17->langchain) (1.0.0)\n",
            "Requirement already satisfied: zstandard<0.24.0,>=0.23.0 in /usr/local/lib/python3.11/dist-packages (from langsmith<0.4,>=0.1.17->langchain) (0.23.0)\n",
            "Requirement already satisfied: anyio<5,>=3.5.0 in /usr/local/lib/python3.11/dist-packages (from openai<2.0.0,>=1.58.1->langchain-openai) (3.7.1)\n",
            "Requirement already satisfied: distro<2,>=1.7.0 in /usr/local/lib/python3.11/dist-packages (from openai<2.0.0,>=1.58.1->langchain-openai) (1.9.0)\n",
            "Requirement already satisfied: jiter<1,>=0.4.0 in /usr/local/lib/python3.11/dist-packages (from openai<2.0.0,>=1.58.1->langchain-openai) (0.8.2)\n",
            "Requirement already satisfied: sniffio in /usr/local/lib/python3.11/dist-packages (from openai<2.0.0,>=1.58.1->langchain-openai) (1.3.1)\n",
            "Requirement already satisfied: tqdm>4 in /usr/local/lib/python3.11/dist-packages (from openai<2.0.0,>=1.58.1->langchain-openai) (4.67.1)\n",
            "Requirement already satisfied: annotated-types>=0.6.0 in /usr/local/lib/python3.11/dist-packages (from pydantic<3.0.0,>=2.7.4->langchain) (0.7.0)\n",
            "Requirement already satisfied: pydantic-core==2.27.2 in /usr/local/lib/python3.11/dist-packages (from pydantic<3.0.0,>=2.7.4->langchain) (2.27.2)\n",
            "Collecting python-dotenv>=0.21.0 (from pydantic-settings<3.0.0,>=2.4.0->langchain-community)\n",
            "  Downloading python_dotenv-1.0.1-py3-none-any.whl.metadata (23 kB)\n",
            "Requirement already satisfied: charset-normalizer<4,>=2 in /usr/local/lib/python3.11/dist-packages (from requests<3,>=2->langchain) (3.4.1)\n",
            "Requirement already satisfied: idna<4,>=2.5 in /usr/local/lib/python3.11/dist-packages (from requests<3,>=2->langchain) (3.10)\n",
            "Requirement already satisfied: urllib3<3,>=1.21.1 in /usr/local/lib/python3.11/dist-packages (from requests<3,>=2->langchain) (2.3.0)\n",
            "Requirement already satisfied: certifi>=2017.4.17 in /usr/local/lib/python3.11/dist-packages (from requests<3,>=2->langchain) (2025.1.31)\n",
            "Requirement already satisfied: greenlet!=0.4.17 in /usr/local/lib/python3.11/dist-packages (from SQLAlchemy<3,>=1.4->langchain) (3.1.1)\n",
            "Requirement already satisfied: regex>=2022.1.18 in /usr/local/lib/python3.11/dist-packages (from tiktoken<1,>=0.7->langchain-openai) (2024.11.6)\n",
            "Requirement already satisfied: httpcore==1.* in /usr/local/lib/python3.11/dist-packages (from httpx>=0.25.2->langgraph-sdk<0.2.0,>=0.1.42->langgraph) (1.0.7)\n",
            "Requirement already satisfied: h11<0.15,>=0.13 in /usr/local/lib/python3.11/dist-packages (from httpcore==1.*->httpx>=0.25.2->langgraph-sdk<0.2.0,>=0.1.42->langgraph) (0.14.0)\n",
            "Requirement already satisfied: jsonpointer>=1.9 in /usr/local/lib/python3.11/dist-packages (from jsonpatch<2.0,>=1.33->langchain-core<1.0.0,>=0.3.41->langchain) (3.0.0)\n",
            "Collecting mypy-extensions>=0.3.0 (from typing-inspect<1,>=0.4.0->dataclasses-json<0.7,>=0.5.7->langchain-community)\n",
            "  Downloading mypy_extensions-1.0.0-py3-none-any.whl.metadata (1.1 kB)\n",
            "Downloading langchain-0.3.20-py3-none-any.whl (1.0 MB)\n",
            "\u001b[2K   \u001b[90m━━━━━━━━━━━━━━━━━━━━━━━━━━━━━━━━━━━━━━━━\u001b[0m \u001b[32m1.0/1.0 MB\u001b[0m \u001b[31m23.2 MB/s\u001b[0m eta \u001b[36m0:00:00\u001b[0m\n",
            "\u001b[?25hDownloading langchain_community-0.3.19-py3-none-any.whl (2.5 MB)\n",
            "\u001b[2K   \u001b[90m━━━━━━━━━━━━━━━━━━━━━━━━━━━━━━━━━━━━━━━━\u001b[0m \u001b[32m2.5/2.5 MB\u001b[0m \u001b[31m88.1 MB/s\u001b[0m eta \u001b[36m0:00:00\u001b[0m\n",
            "\u001b[?25hDownloading langchain_openai-0.3.7-py3-none-any.whl (55 kB)\n",
            "\u001b[2K   \u001b[90m━━━━━━━━━━━━━━━━━━━━━━━━━━━━━━━━━━━━━━━━\u001b[0m \u001b[32m55.3/55.3 kB\u001b[0m \u001b[31m6.0 MB/s\u001b[0m eta \u001b[36m0:00:00\u001b[0m\n",
            "\u001b[?25hDownloading langgraph-0.3.3-py3-none-any.whl (130 kB)\n",
            "\u001b[2K   \u001b[90m━━━━━━━━━━━━━━━━━━━━━━━━━━━━━━━━━━━━━━━━\u001b[0m \u001b[32m130.9/130.9 kB\u001b[0m \u001b[31m14.6 MB/s\u001b[0m eta \u001b[36m0:00:00\u001b[0m\n",
            "\u001b[?25hDownloading dataclasses_json-0.6.7-py3-none-any.whl (28 kB)\n",
            "Downloading httpx_sse-0.4.0-py3-none-any.whl (7.8 kB)\n",
            "Downloading langchain_core-0.3.41-py3-none-any.whl (415 kB)\n",
            "\u001b[2K   \u001b[90m━━━━━━━━━━━━━━━━━━━━━━━━━━━━━━━━━━━━━━━━\u001b[0m \u001b[32m415.1/415.1 kB\u001b[0m \u001b[31m33.1 MB/s\u001b[0m eta \u001b[36m0:00:00\u001b[0m\n",
            "\u001b[?25hDownloading langgraph_checkpoint-2.0.16-py3-none-any.whl (38 kB)\n",
            "Downloading langgraph_prebuilt-0.1.1-py3-none-any.whl (24 kB)\n",
            "Downloading langgraph_sdk-0.1.53-py3-none-any.whl (45 kB)\n",
            "\u001b[2K   \u001b[90m━━━━━━━━━━━━━━━━━━━━━━━━━━━━━━━━━━━━━━━━\u001b[0m \u001b[32m45.4/45.4 kB\u001b[0m \u001b[31m4.7 MB/s\u001b[0m eta \u001b[36m0:00:00\u001b[0m\n",
            "\u001b[?25hDownloading pydantic_settings-2.8.1-py3-none-any.whl (30 kB)\n",
            "Downloading tiktoken-0.9.0-cp311-cp311-manylinux_2_17_x86_64.manylinux2014_x86_64.whl (1.2 MB)\n",
            "\u001b[2K   \u001b[90m━━━━━━━━━━━━━━━━━━━━━━━━━━━━━━━━━━━━━━━━\u001b[0m \u001b[32m1.2/1.2 MB\u001b[0m \u001b[31m66.7 MB/s\u001b[0m eta \u001b[36m0:00:00\u001b[0m\n",
            "\u001b[?25hDownloading marshmallow-3.26.1-py3-none-any.whl (50 kB)\n",
            "\u001b[2K   \u001b[90m━━━━━━━━━━━━━━━━━━━━━━━━━━━━━━━━━━━━━━━━\u001b[0m \u001b[32m50.9/50.9 kB\u001b[0m \u001b[31m5.1 MB/s\u001b[0m eta \u001b[36m0:00:00\u001b[0m\n",
            "\u001b[?25hDownloading python_dotenv-1.0.1-py3-none-any.whl (19 kB)\n",
            "Downloading typing_inspect-0.9.0-py3-none-any.whl (8.8 kB)\n",
            "Downloading mypy_extensions-1.0.0-py3-none-any.whl (4.7 kB)\n",
            "Installing collected packages: python-dotenv, mypy-extensions, marshmallow, httpx-sse, typing-inspect, tiktoken, pydantic-settings, langgraph-sdk, dataclasses-json, langchain-core, langgraph-checkpoint, langchain-openai, langgraph-prebuilt, langchain, langgraph, langchain-community\n",
            "  Attempting uninstall: langchain-core\n",
            "    Found existing installation: langchain-core 0.3.40\n",
            "    Uninstalling langchain-core-0.3.40:\n",
            "      Successfully uninstalled langchain-core-0.3.40\n",
            "  Attempting uninstall: langchain\n",
            "    Found existing installation: langchain 0.3.19\n",
            "    Uninstalling langchain-0.3.19:\n",
            "      Successfully uninstalled langchain-0.3.19\n",
            "Successfully installed dataclasses-json-0.6.7 httpx-sse-0.4.0 langchain-0.3.20 langchain-community-0.3.19 langchain-core-0.3.41 langchain-openai-0.3.7 langgraph-0.3.3 langgraph-checkpoint-2.0.16 langgraph-prebuilt-0.1.1 langgraph-sdk-0.1.53 marshmallow-3.26.1 mypy-extensions-1.0.0 pydantic-settings-2.8.1 python-dotenv-1.0.1 tiktoken-0.9.0 typing-inspect-0.9.0\n"
          ]
        }
      ],
      "source": [
        "# 5. Install LangChain & LangGraph\n",
        "\n",
        "!pip install --upgrade langchain langchain-community langchain-openai langgraph"
      ]
    },
    {
      "cell_type": "code",
      "execution_count": null,
      "metadata": {
        "id": "GiHyJcnyZ-6O",
        "colab": {
          "base_uri": "https://localhost:8080/"
        },
        "outputId": "7c16cd13-16fa-4992-8e98-b8d6d6614174"
      },
      "outputs": [
        {
          "output_type": "stream",
          "name": "stderr",
          "text": [
            "[19:24:50 +0000] [INFO]: NetworkX-cuGraph is available.\n",
            "INFO:nx_arangodb:NetworkX-cuGraph is available.\n"
          ]
        }
      ],
      "source": [
        "# 6. Import the required modules\n",
        "\n",
        "import networkx as nx\n",
        "import nx_arangodb as nxadb\n",
        "\n",
        "from arango import ArangoClient\n",
        "\n",
        "import pandas as pd\n",
        "import numpy as np\n",
        "import networkx as nx\n",
        "import matplotlib.pyplot as plt\n",
        "from random import randint\n",
        "import re\n",
        "\n",
        "from langgraph.prebuilt import create_react_agent\n",
        "from langgraph.checkpoint.memory import MemorySaver\n",
        "from langchain_openai import ChatOpenAI\n",
        "from langchain_community.graphs import ArangoGraph\n",
        "from langchain_community.chains.graph_qa.arangodb import ArangoGraphQAChain\n",
        "from langchain_core.tools import tool\n",
        "from langchain_core.prompts import PromptTemplate\n",
        "import community.community_louvain as community_louvain\n",
        "from networkx.algorithms.link_prediction import adamic_adar_index\n",
        "from networkx.algorithms.link_prediction import jaccard_coefficient\n",
        "import matplotlib.pyplot as plt\n",
        "import gradio as gr\n",
        "import textwrap"
      ]
    },
    {
      "cell_type": "code",
      "execution_count": null,
      "metadata": {
        "id": "weR0H4EBZ-6P",
        "outputId": "e9bf9502-413c-4269-84f2-b37412b0f39b",
        "colab": {
          "base_uri": "https://localhost:8080/"
        }
      },
      "outputs": [
        {
          "output_type": "stream",
          "name": "stdout",
          "text": [
            "<StandardDatabase _system>\n"
          ]
        }
      ],
      "source": [
        "# 7. Connect to the ArangoDB database\n",
        "# TODO: Configure your credentials here!\n",
        "\n",
        "db = ArangoClient(hosts=\"[Deployment Link]\").db(username=\"root\", password=\"[Password]\", verify=True)\n",
        "\n",
        "print(db)"
      ]
    },
    {
      "cell_type": "markdown",
      "metadata": {
        "jp-MarkdownHeadingCollapsed": true,
        "id": "BRXO9zjMZ-6P"
      },
      "source": [
        "### Part 1: Choose & prepare dataset for NetworkX"
      ]
    },
    {
      "cell_type": "markdown",
      "metadata": {
        "id": "wz3k_OOOZ-6Q"
      },
      "source": [
        "I chose to look at Triathlon Race Data. I collected this data in a CSV and uploaded that to google drive, then imported the CSV to a pandas dataframe."
      ]
    },
    {
      "cell_type": "code",
      "source": [
        "# mount google drive\n",
        "from google.colab import drive\n",
        "drive.mount('/content/drive')\n",
        "\n",
        "df = pd.read_csv('[Path to data file]')"
      ],
      "metadata": {
        "colab": {
          "base_uri": "https://localhost:8080/"
        },
        "id": "6EhuQnV6uJf4",
        "outputId": "0d99ed4f-4641-4582-96a0-aa905694c65a"
      },
      "execution_count": null,
      "outputs": [
        {
          "output_type": "stream",
          "name": "stdout",
          "text": [
            "Mounted at /content/drive\n"
          ]
        }
      ]
    },
    {
      "cell_type": "code",
      "source": [
        "df.head()"
      ],
      "metadata": {
        "colab": {
          "base_uri": "https://localhost:8080/",
          "height": 206
        },
        "id": "HuGYm81v4w2c",
        "outputId": "741604c7-4e09-45b8-a66d-763230e92489"
      },
      "execution_count": null,
      "outputs": [
        {
          "output_type": "execute_result",
          "data": {
            "text/plain": [
              "   Unnamed: 0                           Race Name   Race Date    Athlete Name  \\\n",
              "0           0  IRONMAN Canada-Penticton (Ironman)  08/25/2024  Lionel Sanders   \n",
              "1           1  IRONMAN Canada-Penticton (Ironman)  08/25/2024    Sam Appleton   \n",
              "2           2  IRONMAN Canada-Penticton (Ironman)  08/25/2024      Jason Pohl   \n",
              "3           3  IRONMAN Canada-Penticton (Ironman)  08/25/2024      Cody Beals   \n",
              "4           4  IRONMAN Canada-Penticton (Ironman)  08/25/2024      Adam Feigh   \n",
              "\n",
              "  Result Time Race Distance  \n",
              "0     6:57:09       Ironman  \n",
              "1     7:05:37       Ironman  \n",
              "2     7:15:44       Ironman  \n",
              "3     7:17:48       Ironman  \n",
              "4     7:20:53       Ironman  "
            ],
            "text/html": [
              "\n",
              "  <div id=\"df-ba1825d5-b0d4-4d4a-aa19-52fe077650ef\" class=\"colab-df-container\">\n",
              "    <div>\n",
              "<style scoped>\n",
              "    .dataframe tbody tr th:only-of-type {\n",
              "        vertical-align: middle;\n",
              "    }\n",
              "\n",
              "    .dataframe tbody tr th {\n",
              "        vertical-align: top;\n",
              "    }\n",
              "\n",
              "    .dataframe thead th {\n",
              "        text-align: right;\n",
              "    }\n",
              "</style>\n",
              "<table border=\"1\" class=\"dataframe\">\n",
              "  <thead>\n",
              "    <tr style=\"text-align: right;\">\n",
              "      <th></th>\n",
              "      <th>Unnamed: 0</th>\n",
              "      <th>Race Name</th>\n",
              "      <th>Race Date</th>\n",
              "      <th>Athlete Name</th>\n",
              "      <th>Result Time</th>\n",
              "      <th>Race Distance</th>\n",
              "    </tr>\n",
              "  </thead>\n",
              "  <tbody>\n",
              "    <tr>\n",
              "      <th>0</th>\n",
              "      <td>0</td>\n",
              "      <td>IRONMAN Canada-Penticton (Ironman)</td>\n",
              "      <td>08/25/2024</td>\n",
              "      <td>Lionel Sanders</td>\n",
              "      <td>6:57:09</td>\n",
              "      <td>Ironman</td>\n",
              "    </tr>\n",
              "    <tr>\n",
              "      <th>1</th>\n",
              "      <td>1</td>\n",
              "      <td>IRONMAN Canada-Penticton (Ironman)</td>\n",
              "      <td>08/25/2024</td>\n",
              "      <td>Sam Appleton</td>\n",
              "      <td>7:05:37</td>\n",
              "      <td>Ironman</td>\n",
              "    </tr>\n",
              "    <tr>\n",
              "      <th>2</th>\n",
              "      <td>2</td>\n",
              "      <td>IRONMAN Canada-Penticton (Ironman)</td>\n",
              "      <td>08/25/2024</td>\n",
              "      <td>Jason Pohl</td>\n",
              "      <td>7:15:44</td>\n",
              "      <td>Ironman</td>\n",
              "    </tr>\n",
              "    <tr>\n",
              "      <th>3</th>\n",
              "      <td>3</td>\n",
              "      <td>IRONMAN Canada-Penticton (Ironman)</td>\n",
              "      <td>08/25/2024</td>\n",
              "      <td>Cody Beals</td>\n",
              "      <td>7:17:48</td>\n",
              "      <td>Ironman</td>\n",
              "    </tr>\n",
              "    <tr>\n",
              "      <th>4</th>\n",
              "      <td>4</td>\n",
              "      <td>IRONMAN Canada-Penticton (Ironman)</td>\n",
              "      <td>08/25/2024</td>\n",
              "      <td>Adam Feigh</td>\n",
              "      <td>7:20:53</td>\n",
              "      <td>Ironman</td>\n",
              "    </tr>\n",
              "  </tbody>\n",
              "</table>\n",
              "</div>\n",
              "    <div class=\"colab-df-buttons\">\n",
              "\n",
              "  <div class=\"colab-df-container\">\n",
              "    <button class=\"colab-df-convert\" onclick=\"convertToInteractive('df-ba1825d5-b0d4-4d4a-aa19-52fe077650ef')\"\n",
              "            title=\"Convert this dataframe to an interactive table.\"\n",
              "            style=\"display:none;\">\n",
              "\n",
              "  <svg xmlns=\"http://www.w3.org/2000/svg\" height=\"24px\" viewBox=\"0 -960 960 960\">\n",
              "    <path d=\"M120-120v-720h720v720H120Zm60-500h600v-160H180v160Zm220 220h160v-160H400v160Zm0 220h160v-160H400v160ZM180-400h160v-160H180v160Zm440 0h160v-160H620v160ZM180-180h160v-160H180v160Zm440 0h160v-160H620v160Z\"/>\n",
              "  </svg>\n",
              "    </button>\n",
              "\n",
              "  <style>\n",
              "    .colab-df-container {\n",
              "      display:flex;\n",
              "      gap: 12px;\n",
              "    }\n",
              "\n",
              "    .colab-df-convert {\n",
              "      background-color: #E8F0FE;\n",
              "      border: none;\n",
              "      border-radius: 50%;\n",
              "      cursor: pointer;\n",
              "      display: none;\n",
              "      fill: #1967D2;\n",
              "      height: 32px;\n",
              "      padding: 0 0 0 0;\n",
              "      width: 32px;\n",
              "    }\n",
              "\n",
              "    .colab-df-convert:hover {\n",
              "      background-color: #E2EBFA;\n",
              "      box-shadow: 0px 1px 2px rgba(60, 64, 67, 0.3), 0px 1px 3px 1px rgba(60, 64, 67, 0.15);\n",
              "      fill: #174EA6;\n",
              "    }\n",
              "\n",
              "    .colab-df-buttons div {\n",
              "      margin-bottom: 4px;\n",
              "    }\n",
              "\n",
              "    [theme=dark] .colab-df-convert {\n",
              "      background-color: #3B4455;\n",
              "      fill: #D2E3FC;\n",
              "    }\n",
              "\n",
              "    [theme=dark] .colab-df-convert:hover {\n",
              "      background-color: #434B5C;\n",
              "      box-shadow: 0px 1px 3px 1px rgba(0, 0, 0, 0.15);\n",
              "      filter: drop-shadow(0px 1px 2px rgba(0, 0, 0, 0.3));\n",
              "      fill: #FFFFFF;\n",
              "    }\n",
              "  </style>\n",
              "\n",
              "    <script>\n",
              "      const buttonEl =\n",
              "        document.querySelector('#df-ba1825d5-b0d4-4d4a-aa19-52fe077650ef button.colab-df-convert');\n",
              "      buttonEl.style.display =\n",
              "        google.colab.kernel.accessAllowed ? 'block' : 'none';\n",
              "\n",
              "      async function convertToInteractive(key) {\n",
              "        const element = document.querySelector('#df-ba1825d5-b0d4-4d4a-aa19-52fe077650ef');\n",
              "        const dataTable =\n",
              "          await google.colab.kernel.invokeFunction('convertToInteractive',\n",
              "                                                    [key], {});\n",
              "        if (!dataTable) return;\n",
              "\n",
              "        const docLinkHtml = 'Like what you see? Visit the ' +\n",
              "          '<a target=\"_blank\" href=https://colab.research.google.com/notebooks/data_table.ipynb>data table notebook</a>'\n",
              "          + ' to learn more about interactive tables.';\n",
              "        element.innerHTML = '';\n",
              "        dataTable['output_type'] = 'display_data';\n",
              "        await google.colab.output.renderOutput(dataTable, element);\n",
              "        const docLink = document.createElement('div');\n",
              "        docLink.innerHTML = docLinkHtml;\n",
              "        element.appendChild(docLink);\n",
              "      }\n",
              "    </script>\n",
              "  </div>\n",
              "\n",
              "\n",
              "<div id=\"df-58686532-d3d2-409c-834f-b757c1449872\">\n",
              "  <button class=\"colab-df-quickchart\" onclick=\"quickchart('df-58686532-d3d2-409c-834f-b757c1449872')\"\n",
              "            title=\"Suggest charts\"\n",
              "            style=\"display:none;\">\n",
              "\n",
              "<svg xmlns=\"http://www.w3.org/2000/svg\" height=\"24px\"viewBox=\"0 0 24 24\"\n",
              "     width=\"24px\">\n",
              "    <g>\n",
              "        <path d=\"M19 3H5c-1.1 0-2 .9-2 2v14c0 1.1.9 2 2 2h14c1.1 0 2-.9 2-2V5c0-1.1-.9-2-2-2zM9 17H7v-7h2v7zm4 0h-2V7h2v10zm4 0h-2v-4h2v4z\"/>\n",
              "    </g>\n",
              "</svg>\n",
              "  </button>\n",
              "\n",
              "<style>\n",
              "  .colab-df-quickchart {\n",
              "      --bg-color: #E8F0FE;\n",
              "      --fill-color: #1967D2;\n",
              "      --hover-bg-color: #E2EBFA;\n",
              "      --hover-fill-color: #174EA6;\n",
              "      --disabled-fill-color: #AAA;\n",
              "      --disabled-bg-color: #DDD;\n",
              "  }\n",
              "\n",
              "  [theme=dark] .colab-df-quickchart {\n",
              "      --bg-color: #3B4455;\n",
              "      --fill-color: #D2E3FC;\n",
              "      --hover-bg-color: #434B5C;\n",
              "      --hover-fill-color: #FFFFFF;\n",
              "      --disabled-bg-color: #3B4455;\n",
              "      --disabled-fill-color: #666;\n",
              "  }\n",
              "\n",
              "  .colab-df-quickchart {\n",
              "    background-color: var(--bg-color);\n",
              "    border: none;\n",
              "    border-radius: 50%;\n",
              "    cursor: pointer;\n",
              "    display: none;\n",
              "    fill: var(--fill-color);\n",
              "    height: 32px;\n",
              "    padding: 0;\n",
              "    width: 32px;\n",
              "  }\n",
              "\n",
              "  .colab-df-quickchart:hover {\n",
              "    background-color: var(--hover-bg-color);\n",
              "    box-shadow: 0 1px 2px rgba(60, 64, 67, 0.3), 0 1px 3px 1px rgba(60, 64, 67, 0.15);\n",
              "    fill: var(--button-hover-fill-color);\n",
              "  }\n",
              "\n",
              "  .colab-df-quickchart-complete:disabled,\n",
              "  .colab-df-quickchart-complete:disabled:hover {\n",
              "    background-color: var(--disabled-bg-color);\n",
              "    fill: var(--disabled-fill-color);\n",
              "    box-shadow: none;\n",
              "  }\n",
              "\n",
              "  .colab-df-spinner {\n",
              "    border: 2px solid var(--fill-color);\n",
              "    border-color: transparent;\n",
              "    border-bottom-color: var(--fill-color);\n",
              "    animation:\n",
              "      spin 1s steps(1) infinite;\n",
              "  }\n",
              "\n",
              "  @keyframes spin {\n",
              "    0% {\n",
              "      border-color: transparent;\n",
              "      border-bottom-color: var(--fill-color);\n",
              "      border-left-color: var(--fill-color);\n",
              "    }\n",
              "    20% {\n",
              "      border-color: transparent;\n",
              "      border-left-color: var(--fill-color);\n",
              "      border-top-color: var(--fill-color);\n",
              "    }\n",
              "    30% {\n",
              "      border-color: transparent;\n",
              "      border-left-color: var(--fill-color);\n",
              "      border-top-color: var(--fill-color);\n",
              "      border-right-color: var(--fill-color);\n",
              "    }\n",
              "    40% {\n",
              "      border-color: transparent;\n",
              "      border-right-color: var(--fill-color);\n",
              "      border-top-color: var(--fill-color);\n",
              "    }\n",
              "    60% {\n",
              "      border-color: transparent;\n",
              "      border-right-color: var(--fill-color);\n",
              "    }\n",
              "    80% {\n",
              "      border-color: transparent;\n",
              "      border-right-color: var(--fill-color);\n",
              "      border-bottom-color: var(--fill-color);\n",
              "    }\n",
              "    90% {\n",
              "      border-color: transparent;\n",
              "      border-bottom-color: var(--fill-color);\n",
              "    }\n",
              "  }\n",
              "</style>\n",
              "\n",
              "  <script>\n",
              "    async function quickchart(key) {\n",
              "      const quickchartButtonEl =\n",
              "        document.querySelector('#' + key + ' button');\n",
              "      quickchartButtonEl.disabled = true;  // To prevent multiple clicks.\n",
              "      quickchartButtonEl.classList.add('colab-df-spinner');\n",
              "      try {\n",
              "        const charts = await google.colab.kernel.invokeFunction(\n",
              "            'suggestCharts', [key], {});\n",
              "      } catch (error) {\n",
              "        console.error('Error during call to suggestCharts:', error);\n",
              "      }\n",
              "      quickchartButtonEl.classList.remove('colab-df-spinner');\n",
              "      quickchartButtonEl.classList.add('colab-df-quickchart-complete');\n",
              "    }\n",
              "    (() => {\n",
              "      let quickchartButtonEl =\n",
              "        document.querySelector('#df-58686532-d3d2-409c-834f-b757c1449872 button');\n",
              "      quickchartButtonEl.style.display =\n",
              "        google.colab.kernel.accessAllowed ? 'block' : 'none';\n",
              "    })();\n",
              "  </script>\n",
              "</div>\n",
              "\n",
              "    </div>\n",
              "  </div>\n"
            ],
            "application/vnd.google.colaboratory.intrinsic+json": {
              "type": "dataframe",
              "variable_name": "df"
            }
          },
          "metadata": {},
          "execution_count": 9
        }
      ]
    },
    {
      "cell_type": "markdown",
      "metadata": {
        "jp-MarkdownHeadingCollapsed": true,
        "id": "oO7IksNhZ-6S"
      },
      "source": [
        "### Part 2: Convert and Load Graph Data into NetworkX"
      ]
    },
    {
      "cell_type": "code",
      "source": [
        "\n",
        "# Create a NetworkX graph\n",
        "G = nx.Graph()\n",
        "\n",
        "# Add athlete nodes\n",
        "athletes = df[\"Athlete Name\"].unique()\n",
        "\n",
        "for athlete in athletes:\n",
        "    G.add_node(athlete, bipartite = 0, name=athlete, node_type=\"athlete\")\n",
        "\n",
        "# Add race nodes with date and distance attributes\n",
        "races = df[[\"Race Name\", \"Race Distance\", \"Race Date\"]].drop_duplicates()\n",
        "for _, row in races.iterrows():\n",
        "    G.add_node(\n",
        "        row[\"Race Name\"],\n",
        "        bipartite=1,\n",
        "        name = row[\"Race Name\"],\n",
        "        node_type=\"race\",\n",
        "        distance=row[\"Race Distance\"],\n",
        "        race_date=row[\"Race Date\"]\n",
        "    )\n",
        "\n",
        "# Add athlete-race edges with result time\n",
        "for _, row in df.iterrows():\n",
        "    G.add_edge(row[\"Athlete Name\"], row[\"Race Name\"], relation=\"participated\", result_time=row[\"Result Time\"])\n",
        "\n"
      ],
      "metadata": {
        "id": "suA88QLO4-Ag"
      },
      "execution_count": null,
      "outputs": []
    },
    {
      "cell_type": "code",
      "source": [
        "def visualize_graph_subset(athlete_name, num_rivals=3, num_races=3):\n",
        "    \"\"\"\n",
        "    Visualizes a small subset of the triathlon graph where:\n",
        "\n",
        "    - athlete_name: The central athlete to visualize.\n",
        "    - num_rivals: The number of rival athletes to include.\n",
        "    - num_races: The number of races to include.\n",
        "    \"\"\"\n",
        "\n",
        "    G = nx.Graph()\n",
        "\n",
        "    # Get the athlete's past races\n",
        "    race_query = \"\"\"\n",
        "    WITH TriathlonGraph2024_node\n",
        "\n",
        "    LET athlete = (\n",
        "        FOR a IN TriathlonGraph2024_node\n",
        "            FILTER a.node_type == \"athlete\" AND a.name == @athlete_name\n",
        "            RETURN a._id\n",
        "    )[0]\n",
        "\n",
        "    FOR race IN OUTBOUND athlete TriathlonGraph2024_node_to_TriathlonGraph2024_node\n",
        "        FILTER race.node_type == \"race\"\n",
        "        LIMIT @num_races\n",
        "        RETURN race.name\n",
        "    \"\"\"\n",
        "\n",
        "    race_results = db.aql.execute(race_query, bind_vars={\"athlete_name\": athlete_name, \"num_races\": num_races})\n",
        "    races = list(race_results)\n",
        "\n",
        "    # Get rival athletes who participated in the same races\n",
        "    rivals_query = \"\"\"\n",
        "    WITH TriathlonGraph2024_node\n",
        "\n",
        "    LET athlete = (\n",
        "        FOR a IN TriathlonGraph2024_node\n",
        "            FILTER a.node_type == \"athlete\" AND a.name == @athlete_name\n",
        "            RETURN a._id\n",
        "    )[0]\n",
        "\n",
        "    FOR race IN OUTBOUND athlete TriathlonGraph2024_node_to_TriathlonGraph2024_node\n",
        "        FILTER race.node_type == \"race\"\n",
        "        LIMIT @num_races\n",
        "\n",
        "        FOR rival IN INBOUND race TriathlonGraph2024_node_to_TriathlonGraph2024_node\n",
        "            FILTER rival.node_type == \"athlete\" AND rival.name != @athlete_name\n",
        "        RETURN DISTINCT rival.name\n",
        "    \"\"\"\n",
        "\n",
        "    rival_results = db.aql.execute(rivals_query, bind_vars={\"athlete_name\": athlete_name, \"num_races\": num_races})\n",
        "    rivals = list(rival_results)[:num_rivals]  # Fix: Apply limit here\n",
        "\n",
        "    # Add the athlete node\n",
        "    G.add_node(athlete_name, color=\"blue\", node_type=\"athlete\")\n",
        "\n",
        "    # Add race nodes and connect them to the athlete\n",
        "    for race in races:\n",
        "        G.add_node(race, color=\"green\", node_type=\"race\")\n",
        "        G.add_edge(athlete_name, race)\n",
        "\n",
        "    # Add rival athletes and connect them to the same races\n",
        "    for rival in rivals:\n",
        "        G.add_node(rival, color=\"blue\", node_type=\"athlete\")\n",
        "        for race in races:\n",
        "            G.add_edge(rival, race)\n",
        "\n",
        "    # Draw the graph\n",
        "    plt.figure(figsize=(10, 7))\n",
        "    pos = nx.spring_layout(G, seed=42)  # Consistent layout\n",
        "    node_colors = [G.nodes[n][\"color\"] for n in G.nodes]\n",
        "\n",
        "    nx.draw(G, pos, with_labels=True, node_color=node_colors, edge_color=\"gray\", node_size=2000, font_size=10, width=2)\n",
        "    edge_labels = nx.get_edge_attributes(G, \"label\")\n",
        "    nx.draw_networkx_edge_labels(G, pos, edge_labels=edge_labels, font_size=9, font_color=\"black\")\n",
        "\n",
        "    plt.title(f\"Triathlon Graph Subset\")\n",
        "\n",
        "    # Display\n",
        "    plt.show()\n",
        "\n",
        "# Example usage\n",
        "visualize_graph_subset('Jackson Laundry', 10, 5)"
      ],
      "metadata": {
        "colab": {
          "base_uri": "https://localhost:8080/",
          "height": 759
        },
        "id": "Oc8pvQ9CJO2L",
        "outputId": "39b438f3-5a2c-42a1-f240-f69f8b40e1d4"
      },
      "execution_count": null,
      "outputs": [
        {
          "output_type": "display_data",
          "data": {
            "text/plain": [
              "<Figure size 1000x700 with 1 Axes>"
            ],
            "image/png": "[encoded data removed]"
          },
          "metadata": {}
        }
      ]
    },
    {
      "cell_type": "markdown",
      "metadata": {
        "jp-MarkdownHeadingCollapsed": true,
        "id": "Yz-kCPEcZ-6T"
      },
      "source": [
        "### Part 3: Persist the Graph in ArangoDB"
      ]
    },
    {
      "cell_type": "code",
      "source": [
        "# 1. Load the NetworkX Graph into ArangoDB\n",
        "# Reference: https://github.com/arangodb/nx-arangodb?tab=readme-ov-file#can-i-create-an-arangodb-graph-from-an-existing-networkx-graph\n",
        "\n",
        "G_adb = nxadb.Graph(\n",
        "    name=\"TriathlonGraph2024\",\n",
        "    db=db,\n",
        "    incoming_graph_data=G,\n",
        "    write_batch_size=50000  # Adjust batch size as needed\n",
        ")"
      ],
      "metadata": {
        "id": "2wUCXzAgnS0z"
      },
      "execution_count": null,
      "outputs": []
    },
    {
      "cell_type": "code",
      "source": [
        "# Check connection\n",
        "print(db.name)  # Should return True if the connection is successful\n",
        "print(db.has_graph(\"TriathlonGraph2024\"))  # Check if graph exists\n"
      ],
      "metadata": {
        "colab": {
          "base_uri": "https://localhost:8080/"
        },
        "id": "tePbrDXd7uSO",
        "outputId": "ae90a003-1872-49e9-e13d-d79d902827f2"
      },
      "execution_count": null,
      "outputs": [
        {
          "output_type": "stream",
          "name": "stdout",
          "text": [
            "_system\n",
            "True\n"
          ]
        }
      ]
    },
    {
      "cell_type": "code",
      "execution_count": null,
      "metadata": {
        "id": "O3ThlpALI5G9",
        "outputId": "c94b24ce-094a-43b0-be00-80851011922b",
        "colab": {
          "base_uri": "https://localhost:8080/"
        }
      },
      "outputs": [
        {
          "output_type": "stream",
          "name": "stderr",
          "text": [
            "[19:26:55 +0000] [INFO]: Graph 'TriathlonGraph2024' exists.\n",
            "INFO:nx_arangodb:Graph 'TriathlonGraph2024' exists.\n",
            "[19:26:55 +0000] [INFO]: Default node type set to 'TriathlonGraph2024_node'\n",
            "INFO:nx_arangodb:Default node type set to 'TriathlonGraph2024_node'\n"
          ]
        },
        {
          "output_type": "stream",
          "name": "stdout",
          "text": [
            "Graph named 'TriathlonGraph2024' with 102702 nodes and 129984 edges\n"
          ]
        }
      ],
      "source": [
        "# 2. Re-connect to the same Graph\n",
        "\n",
        "G_adb = nxadb.Graph(name=\"TriathlonGraph2024\", db=db)\n",
        "print(G_adb)"
      ]
    },
    {
      "cell_type": "markdown",
      "metadata": {
        "jp-MarkdownHeadingCollapsed": true,
        "id": "NsB2Zvgxlv3E"
      },
      "source": [
        "### Part 4: Agentic Application build with Structured Tools"
      ]
    },
    {
      "cell_type": "code",
      "execution_count": null,
      "metadata": {
        "id": "T5DqrJgsZ-6d"
      },
      "outputs": [],
      "source": [
        "# 1. Create the ArangoGraph LangChain wrapper\n",
        "# Reference: https://api.python.langchain.com/en/latest/graphs/langchain_community.graphs.arangodb_graph.ArangoGraph.html\n",
        "\n",
        "arango_graph = ArangoGraph(db)"
      ]
    },
    {
      "cell_type": "code",
      "source": [
        "from pydantic import BaseModel, Field\n",
        "\n",
        "# Define the input schema for each tool\n",
        "class GetTopXCompetitorsInput(BaseModel):\n",
        "    athlete_name: str = Field(..., description=\"The name of the athlete\")\n",
        "    top_x: int = Field(..., description=\"The number of top competitors to return\")\n",
        "\n",
        "class CompareHeadToHeadInput(BaseModel):\n",
        "    athlete_x: str = Field(..., description=\"The name of the first athlete\")\n",
        "    athlete_y: str = Field(..., description=\"The name of the second athlete\")\n",
        "\n",
        "class GetMostInfluential(BaseModel):\n",
        "    node_type: str = Field(..., description=\"race or athlete\")\n",
        "\n",
        "class NodeToName(BaseModel):\n",
        "    node_id: str = Field(..., description=\"node to extract name of\")\n",
        "\n",
        "class NameToNode(BaseModel):\n",
        "    name: str = Field(..., description=\"name to get node id of\")\n",
        "\n",
        "class GetRaceRecommendations(BaseModel):\n",
        "    athlete_name: str = Field(..., description=\"athlete name to get reccomendations for\")\n",
        "    top_n: int = Field(..., description=\"The number of reccomended races to retrieve\")\n",
        "\n",
        "class TextToAqlToText(BaseModel):\n",
        "    query: str = Field(..., description=\"natural language query of the graph\")"
      ],
      "metadata": {
        "id": "-VNfAvF7i61v"
      },
      "execution_count": null,
      "outputs": []
    },
    {
      "cell_type": "code",
      "source": [
        "import os\n",
        "\n",
        "os.environ[\"OPENAI_API_KEY\"] = \"[OPENAI API Key]\"\n"
      ],
      "metadata": {
        "id": "8pOwRVzsdE8E"
      },
      "execution_count": null,
      "outputs": []
    },
    {
      "cell_type": "code",
      "source": [
        "def recommend_races_collaborative(G_a, athlete_node, top_n=5):\n",
        "    \"\"\"\n",
        "    Recommend races for an athlete based on Jaccard similarity in the bipartite graph.\n",
        "    Ensures recommendations exclude races the athlete has already participated in.\n",
        "    \"\"\"\n",
        "    G = nx.Graph(G_a)\n",
        "    if athlete_node not in G:\n",
        "        return []\n",
        "\n",
        "    # Get races the athlete has already participated in\n",
        "    existing_races = set(G.neighbors(athlete_node))\n",
        "\n",
        "    # Find similar athletes based on Jaccard similarity\n",
        "    similar_athletes = list(jaccard_coefficient(G, [(athlete_node, other)\n",
        "                                                    for other in G.nodes\n",
        "                                                    if G.nodes[other][\"node_type\"] == \"athlete\"]))\n",
        "    # Sort athletes by similarity\n",
        "    similar_athletes = sorted(similar_athletes, key=lambda x: x[2], reverse=True)\n",
        "\n",
        "    # Get races from top similar athletes\n",
        "    race_recommendations = set()\n",
        "    for _, athlete, _ in similar_athletes[1:11]:  # Take top 10 most similar athletes\n",
        "        race_recommendations.update(G.neighbors(athlete))\n",
        "\n",
        "    # **Filter out races the athlete has already participated in**\n",
        "    new_races = race_recommendations - existing_races\n",
        "    return list(new_races)[:top_n]\n",
        "\n",
        "# Generate race recommendations for a specific athlete based on competative field\n",
        "def recommend_races_adamic_adar(G_a, athlete_node, top_n=5):\n",
        "    \"\"\"\n",
        "    Recommend races for an athlete based on Adamic-Adar similarity.\n",
        "    \"\"\"\n",
        "    G = nx.Graph(G_a)\n",
        "    if athlete_node not in G:\n",
        "        return []\n",
        "\n",
        "    # Get races the athlete has already participated in\n",
        "    existing_races = set(G.neighbors(athlete_node))\n",
        "\n",
        "    # Ensure athlete has prior races\n",
        "    if not existing_races:\n",
        "        return []\n",
        "\n",
        "    # Correctly filter race nodes\n",
        "    race_nodes = {node for node, data in G.nodes(data=True) if data[\"node_type\"] == \"race\"}\n",
        "\n",
        "    # Create valid (athlete, race) pairs\n",
        "    possible_races = [(athlete_node, race) for race in race_nodes if race not in existing_races]\n",
        "\n",
        "    # Compute Adamic-Adar scores\n",
        "    preds = list(adamic_adar_index(G, possible_races))\n",
        "\n",
        "    # Sort by similarity score\n",
        "    recommendations = sorted(preds, key=lambda x: x[2], reverse=True)[:top_n]\n",
        "    return [race for _, race, _ in recommendations]\n",
        "\n",
        "def get_race_recommendations(athlete_name : str, top_n=5):\n",
        "    \"\"\"\n",
        "    This tool is available to recommend top_n races for an athlete to\n",
        "    participate in based previous participation. You are responsible for\n",
        "    taking an athlete name, and number of race to reccomend, returning\n",
        "    each reccomended race node as well as if the race was recommended due\n",
        "    to the competativefield or because similar athletes raced there.\n",
        "    \"\"\"\n",
        "    athlete_node = name_to_node(athlete_name)\n",
        "    if (athlete_node == None):\n",
        "        return \"Athlete not found\"\n",
        "\n",
        "    # Get recommendations from different approaches\n",
        "    link_pred_races = recommend_races_adamic_adar(G_adb, athlete_node, top_n * 2)\n",
        "    collab_races = recommend_races_collaborative(G_adb, athlete_node, top_n * 2)\n",
        "\n",
        "    # Pagerank\n",
        "    pagerank_scores = nx.pagerank(G_adb, alpha=0.85)\n",
        "\n",
        "    # Combine recommendations and rank by PageRank\n",
        "    combined_races = set(link_pred_races + collab_races)\n",
        "    race_scores = {race: pagerank_scores.get(race, 0) for race in combined_races}\n",
        "\n",
        "    # Sort by PageRank score and return top N\n",
        "    sorted_races = sorted(race_scores, key=race_scores.get, reverse=True)[:top_n]\n",
        "\n",
        "     # Label recommendations based on method\n",
        "    labeled_recommendations = []\n",
        "    for race in sorted_races:\n",
        "        if race in link_pred_races and race in collab_races:\n",
        "            label = \"Both\"\n",
        "        elif race in link_pred_races:\n",
        "            label = \"Competitive Field\"\n",
        "        else:\n",
        "            label = \"Similar Athlete's Raced Here\"\n",
        "\n",
        "        labeled_recommendations.append((node_to_name(race), label))\n",
        "\n",
        "    return labeled_recommendations"
      ],
      "metadata": {
        "id": "7awWDjVW9r8r"
      },
      "execution_count": null,
      "outputs": []
    },
    {
      "cell_type": "code",
      "source": [
        "def node_to_name(node_id: str):\n",
        "  \"\"\"This tool is available to extract an athlete or race name based on node id.\n",
        "  \"\"\"\n",
        "  return G_adb.nodes(data='name')[node_id]"
      ],
      "metadata": {
        "id": "MvRRzVuBjpOv"
      },
      "execution_count": null,
      "outputs": []
    },
    {
      "cell_type": "code",
      "source": [
        "def name_to_node(name: str):\n",
        "  \"\"\"This tool is available to extract a node id based on an athlete or race name.\n",
        "  \"\"\"\n",
        "  for node in G_adb.nodes(data='name'):\n",
        "    if (node[1] == name):\n",
        "      return node[0]\n",
        "  return None"
      ],
      "metadata": {
        "id": "Lf4fg2rL8bfo"
      },
      "execution_count": null,
      "outputs": []
    },
    {
      "cell_type": "code",
      "source": [
        "def get_most_influential(node_type: str):\n",
        "  \"\"\"Ranks all athletes or races by influence and returns a dataframe of\n",
        "  human-readable names ranked by influence.\"\"\"\n",
        "\n",
        "  pagerank_scores = nx.pagerank(G_adb, alpha=0.85)\n",
        "\n",
        "  # Pre-filter nodes before lookup\n",
        "  nodes = {n for n, d in G_adb.nodes(data=True) if d[\"node_type\"] == node_type}\n",
        "\n",
        "  # Extract only relevant nodes\n",
        "  pagerank = {k: v for k, v in pagerank_scores.items() if k in nodes}\n",
        "\n",
        "  # Convert node IDs to names\n",
        "  pagerank_named = {node_to_name(k): v for k, v in pagerank.items()}\n",
        "\n",
        "  # Convert to DataFrame and sort\n",
        "  df_pagerank = pd.DataFrame(pagerank_named.items(), columns=[\"Race Name\", \"PageRank\"]).sort_values(by=\"PageRank\", ascending=False)\n",
        "\n",
        "  return df_pagerank\n"
      ],
      "metadata": {
        "id": "BgiWg4e9hJOO"
      },
      "execution_count": null,
      "outputs": []
    },
    {
      "cell_type": "code",
      "source": [
        "def compare_head_to_head(athlete_x: str, athlete_y: str):\n",
        "    \"\"\"\n",
        "    This tool is available to find head to head results between two athletes.\n",
        "    You are responsible\n",
        "    for accepting both althlete's names, executing an AQL query to find the the\n",
        "    total number of races in common, number one by athelete x, and number one\n",
        "    by athlete y and returning a dictionary containing these values in this format\n",
        "    {'athlete_x': 'Athlete X Name', 'athlete_y': 'Athlete Y Name',\n",
        "    'athlete_x_wins': num_athlete_x_wins, 'athlete_y_wins': num_athlete_y_wins,\n",
        "    'races_compared': num_races_compared}\n",
        "    \"\"\"\n",
        "\n",
        "    query = \"\"\"\n",
        "    WITH TriathlonGraph2024_node\n",
        "\n",
        "    // Find Athlete X's key\n",
        "    LET athlete_x_key = (\n",
        "        FOR a IN TriathlonGraph2024_node\n",
        "            FILTER a.node_type == \"athlete\" AND a.name == @athlete_x\n",
        "            RETURN a._key\n",
        "    )[0]\n",
        "\n",
        "    // Find Athlete Y's key\n",
        "    LET athlete_y_key = (\n",
        "        FOR a IN TriathlonGraph2024_node\n",
        "            FILTER a.node_type == \"athlete\" AND a.name == @athlete_y\n",
        "            RETURN a._key\n",
        "    )[0]\n",
        "\n",
        "    // Find races where both Athlete X and Athlete Y competed\n",
        "    LET shared_races = (\n",
        "        FOR race IN OUTBOUND CONCAT(\"TriathlonGraph2024_node/\", athlete_x_key) TriathlonGraph2024_node_to_TriathlonGraph2024_node\n",
        "            FILTER race.node_type == \"race\"\n",
        "            FILTER race._id IN (\n",
        "                FOR r IN OUTBOUND CONCAT(\"TriathlonGraph2024_node/\", athlete_y_key) TriathlonGraph2024_node_to_TriathlonGraph2024_node\n",
        "                    RETURN r._id\n",
        "            )\n",
        "            RETURN race._id\n",
        "    )\n",
        "\n",
        "    // Get Athlete X's race results\n",
        "    LET athlete_x_results = (\n",
        "        FOR e IN TriathlonGraph2024_node_to_TriathlonGraph2024_node\n",
        "            FILTER e._from == CONCAT(\"TriathlonGraph2024_node/\", athlete_x_key)\n",
        "            AND e._to IN shared_races\n",
        "            LET time_parts = SPLIT(e.result_time, \":\")\n",
        "            RETURN { race: e._to, time_seconds: TO_NUMBER(time_parts[0]) * 3600 + TO_NUMBER(time_parts[1]) * 60 + TO_NUMBER(time_parts[2]) }\n",
        "    )\n",
        "\n",
        "    // Get Athlete Y's race results\n",
        "    LET athlete_y_results = (\n",
        "        FOR e IN TriathlonGraph2024_node_to_TriathlonGraph2024_node\n",
        "            FILTER e._from == CONCAT(\"TriathlonGraph2024_node/\", athlete_y_key)\n",
        "            AND e._to IN shared_races\n",
        "            LET time_parts = SPLIT(e.result_time, \":\")\n",
        "            RETURN { race: e._to, time_seconds: TO_NUMBER(time_parts[0]) * 3600 + TO_NUMBER(time_parts[1]) * 60 + TO_NUMBER(time_parts[2]) }\n",
        "    )\n",
        "\n",
        "    // Compare head-to-head results\n",
        "    LET head_to_head = (\n",
        "        FOR x IN athlete_x_results\n",
        "            FOR y IN athlete_y_results\n",
        "                FILTER x.race == y.race\n",
        "                RETURN {\n",
        "                    race: x.race,\n",
        "                    athlete_x_time: x.time_seconds,\n",
        "                    athlete_y_time: y.time_seconds,\n",
        "                    winner: (x.time_seconds < y.time_seconds ? @athlete_x : @athlete_y)\n",
        "                }\n",
        "    )\n",
        "\n",
        "    // Count the number of wins for each athlete\n",
        "    LET athlete_x_wins = LENGTH(\n",
        "        FOR h IN head_to_head\n",
        "            FILTER h.winner == @athlete_x\n",
        "            RETURN 1\n",
        "    )\n",
        "\n",
        "    LET athlete_y_wins = LENGTH(\n",
        "        FOR h IN head_to_head\n",
        "            FILTER h.winner == @athlete_y\n",
        "            RETURN 1\n",
        "    )\n",
        "\n",
        "    RETURN { athlete_x: @athlete_x, athlete_y: @athlete_y, athlete_x_wins, athlete_y_wins, races_compared: LENGTH(head_to_head) }\n",
        "    \"\"\"\n",
        "\n",
        "    result = db.aql.execute(query, bind_vars={\"athlete_x\": athlete_x, \"athlete_y\": athlete_y})\n",
        "    return next(result, None)"
      ],
      "metadata": {
        "id": "pEi1aBoY5iHj"
      },
      "execution_count": null,
      "outputs": []
    },
    {
      "cell_type": "code",
      "source": [
        "def get_top_x_competitors(athlete_name: str, top_x: int):\n",
        "    \"\"\"This tool is available to find the top x competitors an athlete has raced\n",
        "    against, revsolving ties by minimum total time difference. You are responsible\n",
        "    for accepting athlete name and number of competitors (top_x) to find,\n",
        "    executing an AQL query to find the top_x competitors, and returning a list\n",
        "    containing for each competitor: name, number of race in common, and total time\n",
        "    difference.\n",
        "    \"\"\"\n",
        "\n",
        "    query = \"\"\"\n",
        "    WITH TriathlonGraph2024_node\n",
        "\n",
        "    // Find Athlete's key\n",
        "    LET athlete_key = (\n",
        "        FOR a IN TriathlonGraph2024_node\n",
        "            FILTER a.node_type == \"athlete\" AND a.name == @athlete_name\n",
        "            RETURN a._key\n",
        "    )[0]\n",
        "\n",
        "    LET athlete_races = (\n",
        "        FOR race IN OUTBOUND CONCAT(\"TriathlonGraph2024_node/\", athlete_key) TriathlonGraph2024_node_to_TriathlonGraph2024_node\n",
        "            FILTER race.node_type == \"race\"\n",
        "            RETURN race._id\n",
        "    )\n",
        "\n",
        "    LET athlete_total_time = (\n",
        "        FOR e IN TriathlonGraph2024_node_to_TriathlonGraph2024_node\n",
        "            FILTER e._from == CONCAT(\"TriathlonGraph2024_node/\", athlete_key)\n",
        "            AND e._to IN athlete_races\n",
        "            LET time_parts = SPLIT(e.result_time, \":\")\n",
        "            RETURN TO_NUMBER(time_parts[0]) * 3600 + TO_NUMBER(time_parts[1]) * 60 + TO_NUMBER(time_parts[2])\n",
        "    )\n",
        "\n",
        "    LET athlete_time_sum = SUM(athlete_total_time)\n",
        "\n",
        "    FOR race IN athlete_races\n",
        "        FOR athlete, edge IN INBOUND race TriathlonGraph2024_node_to_TriathlonGraph2024_node\n",
        "            FILTER athlete.node_type == \"athlete\"\n",
        "            FILTER athlete.name != @athlete_name\n",
        "\n",
        "            // Convert athlete's result time to total seconds\n",
        "            LET athlete_time_parts = SPLIT(edge.result_time, \":\")\n",
        "            LET athlete_time_seconds = TO_NUMBER(athlete_time_parts[0]) * 3600 + TO_NUMBER(athlete_time_parts[1]) * 60 + TO_NUMBER(athlete_time_parts[2])\n",
        "\n",
        "            COLLECT competitor = athlete.name\n",
        "                AGGREGATE num_races = COUNT(race), total_competitor_time = SUM(athlete_time_seconds)\n",
        "\n",
        "            LET time_diff = ABS(total_competitor_time - athlete_time_sum)\n",
        "\n",
        "            SORT num_races DESC, time_diff ASC\n",
        "            LIMIT @x\n",
        "\n",
        "            RETURN { competitor, num_races, total_competitor_time, time_diff }\n",
        "    \"\"\"\n",
        "    competitors = db.aql.execute(query, bind_vars={\"athlete_name\": athlete_name, \"x\": top_x})\n",
        "    return list(competitors)"
      ],
      "metadata": {
        "id": "C4bwQmV0yaX8"
      },
      "execution_count": null,
      "outputs": []
    },
    {
      "cell_type": "code",
      "source": [
        "def text_to_aql_to_text(query: str):\n",
        "    \"\"\"This tool is available to invoke the\n",
        "    ArangoGraphQAChain object, which enables you to\n",
        "    translate a Natural Language Query into AQL, execute\n",
        "    the query, and translate the result back into Natural Language.\n",
        "    \"\"\"\n",
        "    # Define the prompt template\n",
        "    custom_aql_prompt = PromptTemplate(\n",
        "        template=\"\"\"\n",
        "        You are an expert in querying an ArangoDB graph database containing triathlon race and rivalry data.\n",
        "        Your task is to translate user questions into **optimized AQL queries**, execute them, and return clear results.\n",
        "\n",
        "        **Graph Schema**\n",
        "        - **Node Collection: `TriathlonGraph2024_node`**\n",
        "          - `node_type`: `\"athlete\"` or `\"race\"`\n",
        "          - `name`: The athlete or race name\n",
        "\n",
        "        - **Edge Collection: `TriathlonGraph2024_node_to_TriathlonGraph2024_node`**\n",
        "          - `relation`: `\"participated\"` (Athlete → Race)\n",
        "\n",
        "        **Query Instructions**\n",
        "        - If asked **\"How many races has an athlete participated in?\"**, generate an AQL query to count races.\n",
        "        - If asked **\"How many athletes participated in a race?\"**, generate an AQL query to count participants.\n",
        "        - Always filter names **case-insensitively**.\n",
        "        - Return results in a structured format.\n",
        "\n",
        "        **Example Translations**\n",
        "        - **Q:** \"How many races has Lionel Sanders participated in?\"\n",
        "          - **AQL:**\n",
        "            ```\n",
        "            FOR athlete IN TriathlonGraph2024_node\n",
        "                FILTER athlete.node_type == \"athlete\" AND athlete.name == \"Lionel Sanders\"\n",
        "                FOR race IN OUTBOUND athlete TriathlonGraph2024_node_to_TriathlonGraph2024_node\n",
        "                    FILTER race.node_type == \"race\"\n",
        "                    COLLECT WITH COUNT INTO num_races\n",
        "            RETURN num_races\n",
        "            ```\n",
        "          - **Response:** \"Lionel Sanders has participated in X races.\"\n",
        "\n",
        "        - **Q:** \"Which athletes participated in Ironman World Championship?\"\n",
        "          - **AQL:**\n",
        "            ```\n",
        "            FOR race IN TriathlonGraph2024_node\n",
        "                FILTER race.node_type == \"race\" AND LOWER(race.name) == LOWER(\"Ironman World Championship\")\n",
        "                FOR athlete IN INBOUND race TriathlonGraph2024_node_to_TriathlonGraph2024_node\n",
        "                    FILTER athlete.node_type == \"athlete\"\n",
        "                    RETURN athlete.name\n",
        "            ```\n",
        "          - **Response:** \"The following athletes participated in the Ironman World Championship: [Athlete1, Athlete2, ...].\"\n",
        "\n",
        "        - **Q:** \"How many athletes participated in the Ironman World Championship?\"\n",
        "          - **AQL:**\n",
        "            ```\n",
        "            FOR race IN TriathlonGraph2024_node\n",
        "                FILTER race.node_type == \"race\" AND LOWER(race.name) == LOWER(\"Ironman World Championship\")\n",
        "                FOR athlete IN INBOUND race TriathlonGraph2024_node_to_TriathlonGraph2024_node\n",
        "                    FILTER athlete.node_type == \"athlete\"\n",
        "                    COLLECT WITH COUNT INTO num_athletes\n",
        "            RETURN num_athletes\n",
        "            ```\n",
        "          - **Response:** \"A total of X athletes participated in the Ironman World Championship.\"\n",
        "\n",
        "\n",
        "        Now, translate the following user question into an AQL query and execute it.\n",
        "\n",
        "        **User Query:** {input}\n",
        "        \"\"\",\n",
        "        input_variables=[\"input\"]\n",
        "    )\n",
        "    # Define the LLM\n",
        "    llm = ChatOpenAI(temperature=0, model_name=\"gpt-4o\")\n",
        "\n",
        "    # Initialize ArangoGraphQAChain with custom prompt\n",
        "    chain = ArangoGraphQAChain.from_llm(\n",
        "        llm=llm,\n",
        "        graph=arango_graph,\n",
        "        verbose=True,\n",
        "        allow_dangerous_requests=True,\n",
        "        custom_prompt=custom_aql_prompt  # Pass custom prompt\n",
        "    )\n",
        "\n",
        "    result = chain.invoke(query)\n",
        "\n",
        "    return str(result[\"result\"])\n"
      ],
      "metadata": {
        "id": "jpJCEMPyX9a_"
      },
      "execution_count": null,
      "outputs": []
    },
    {
      "cell_type": "code",
      "source": [
        "from langchain.chat_models import ChatOpenAI\n",
        "from langchain.agents import initialize_agent, AgentType\n",
        "from langchain.prompts import PromptTemplate\n",
        "from langchain.tools import StructuredTool\n",
        "\n",
        "# Define tools using `StructuredTool`\n",
        "tools = [\n",
        "    StructuredTool(\n",
        "        name=\"GetTopXCompetitors\",\n",
        "        func=get_top_x_competitors,\n",
        "        description=\"Given an athlete name and an integer top_x, returns a list of athlete's top_x competitors.\",\n",
        "        args_schema=GetTopXCompetitorsInput\n",
        "    ),\n",
        "    StructuredTool(\n",
        "        name=\"CompareHeadToHead\",\n",
        "        func=compare_head_to_head,\n",
        "        description=\"Given two athlete names, returns the number of races each athlete has finished ahead of the other.\",\n",
        "        args_schema=CompareHeadToHeadInput\n",
        "    ),\n",
        "    StructuredTool(\n",
        "        name=\"GetMostInfluential\",\n",
        "        func=get_most_influential,\n",
        "        description=\"Based on node_type specified returns a data frame of all race or athlete names ranked in order of influence.\",\n",
        "        args_schema=GetMostInfluential\n",
        "    ),\n",
        "    StructuredTool(\n",
        "        name=\"NodeToName\",\n",
        "        func=node_to_name,\n",
        "        description=\"Extract Athlete or Race name based on node id.\",\n",
        "        args_schema=NodeToName\n",
        "    ),\n",
        "    StructuredTool(\n",
        "        name=\"NameToNode\",\n",
        "        func=node_to_name,\n",
        "        description=\"Extract node id based on provided race or athlete name.\",\n",
        "        args_schema=NodeToName\n",
        "    ),\n",
        "     StructuredTool(\n",
        "        name=\"GetRaceRecommendations\",\n",
        "        func=get_race_recommendations,\n",
        "        description=(\"Given an athlete name, gets the input number of race recommendations. For each recommended race\"\n",
        "                      \"this function returns the race node as well as if it was recommended due to the competative\"\n",
        "                      \"field or because similar athlete's raced there.\"),\n",
        "        args_schema=GetRaceRecommendations\n",
        "    ),\n",
        "     StructuredTool(\n",
        "        name=\"TextToAqlToText\",\n",
        "        func=text_to_aql_to_text,\n",
        "        description=(\"Given a natural language query, translates to AQL and queries the triathlon graph.\"\n",
        "                      \"Then converts the response to natural language. \"),\n",
        "        args_schema=TextToAqlToText\n",
        "    ),\n",
        "]\n",
        "\n",
        "# Define a custom ReAct-style prompt\n",
        "custom_prompt = PromptTemplate(\n",
        "    input_variables=[\"input\", \"agent_scratchpad\"],\n",
        "    template=\"\"\"\n",
        "  You are an AI assistant specializing in triathlon analytics. You have access to a knowledge graph containing detailed race and rivalry data.\n",
        "    Use the tools below to retrieve and analyze relevant insights.\n",
        "\n",
        "    **Available Tools:**\n",
        "    1 **get_top_x_competitors(athlete_name, top_x)** – Finds the strongest rivals of an athlete based on race history.\n",
        "    2 **compare_head_to_head(athlete_x, athlete_y)** – Compares two athletes' head-to-head results.\n",
        "    3 **get_most_influential(node_type)** – Ranks athletes or races by influence **(returns node IDs, which must be converted using `node_to_name()`)**.\n",
        "    4 **node_to_name(node_id)** – Converts a node ID into an athlete or race name.\n",
        "    5 **get_race_recommendations(athlete_name, top_n)** – Recommends races for an athlete.\n",
        "    6 **text_to_aql_to_text(query)** – Translates a natural language query into AQL and executes it and returns the respone in natural language.\n",
        "\n",
        "    **Decision-Making Rules:**\n",
        "    - If `get_most_influential()` returns node IDs, **call `node_to_name()` on each before responding**.\n",
        "    - If the query asks about an athlete's competitors, call **get_top_x_competitors()**.\n",
        "    - If the query involves a direct rivalry comparison, call **compare_head_to_head()**.\n",
        "    - If ranking of athletes or races is requested, call **get_most_influential()**.\n",
        "    - If the query relates to upcoming races, call **get_race_recommendations()**.\n",
        "    - If the query relates to basic information about the triathlon graph call **text_to_aql_to_text()**.\n",
        "\n",
        "    **Your Approach:**\n",
        "    1. Identify the most relevant tool(s) for the query.\n",
        "    2. Extract necessary parameters (e.g., athlete names, race types, numbers).\n",
        "    3. Call the appropriate tool(s).\n",
        "    4. If the results contains node IDs, call `node_to_name()` to conver to names for each before responding\n",
        "    5. Formulate a structured and insightful response using the retrieved data.\n",
        "\n",
        "    Now, process the user query carefully.\n",
        "\n",
        "    User Query: {input}\n",
        "\n",
        "    {agent_scratchpad}\"\"\"\n",
        ")\n",
        "\n",
        "# Function to query the agent\n",
        "def query_graph(query):\n",
        "    llm = ChatOpenAI(temperature=0, model_name=\"gpt-4o\")\n",
        "\n",
        "    agent = initialize_agent(\n",
        "        tools=tools,\n",
        "        llm=llm,\n",
        "        agent=AgentType.STRUCTURED_CHAT_ZERO_SHOT_REACT_DESCRIPTION,  # Allows structured tools\n",
        "        verbose=True,\n",
        "        agent_kwargs={\"prompt\": custom_prompt},\n",
        "        return_intermediate_steps=True\n",
        "    )\n",
        "\n",
        "    # Invoke the agent and extract only the final output\n",
        "    response = agent.invoke({\"input\": query})\n",
        "\n",
        "    return response[\"output\"]  # Extract final response (ignore intermediate steps)\n"
      ],
      "metadata": {
        "id": "fdA0mFgDiOmA"
      },
      "execution_count": null,
      "outputs": []
    },
    {
      "cell_type": "code",
      "source": [
        "query_graph(\"How many times has Lionel Sanders beaten Sam Long?\")"
      ],
      "metadata": {
        "colab": {
          "base_uri": "https://localhost:8080/",
          "height": 520
        },
        "id": "UQ_7gd56kNXl",
        "outputId": "d476ab2b-3cf7-4ce8-f4b5-ae096fd6508a"
      },
      "execution_count": null,
      "outputs": [
        {
          "output_type": "stream",
          "name": "stdout",
          "text": [
            "\n",
            "\n",
            "\u001b[1m> Entering new AgentExecutor chain...\u001b[0m\n",
            "\u001b[32;1m\u001b[1;3mThought: I need to compare the head-to-head results between Lionel Sanders and Sam Long to find out how many times Lionel Sanders has finished ahead of Sam Long.\n",
            "Action:\n",
            "```\n",
            "{\n",
            "  \"action\": \"CompareHeadToHead\",\n",
            "  \"action_input\": {\n",
            "    \"athlete_x\": \"Lionel Sanders\",\n",
            "    \"athlete_y\": \"Sam Long\"\n",
            "  }\n",
            "}\n",
            "```\u001b[0m\n",
            "Observation: \u001b[33;1m\u001b[1;3m{'athlete_x': 'Lionel Sanders', 'athlete_y': 'Sam Long', 'athlete_x_wins': 1, 'athlete_y_wins': 0, 'races_compared': 1}\u001b[0m\n",
            "Thought:\u001b[32;1m\u001b[1;3mI know what to respond. \n",
            "\n",
            "Action:\n",
            "```\n",
            "{\n",
            "  \"action\": \"Final Answer\",\n",
            "  \"action_input\": \"Lionel Sanders has beaten Sam Long 1 time.\"\n",
            "}\n",
            "```\u001b[0m\n",
            "\n",
            "\u001b[1m> Finished chain.\u001b[0m\n"
          ]
        },
        {
          "output_type": "execute_result",
          "data": {
            "text/plain": [
              "'Lionel Sanders has beaten Sam Long 1 time.'"
            ],
            "application/vnd.google.colaboratory.intrinsic+json": {
              "type": "string"
            }
          },
          "metadata": {},
          "execution_count": 33
        }
      ]
    },
    {
      "cell_type": "code",
      "source": [
        "query_graph(\"What is the head to head results between Kat Matthews and Laura Philipp?\")"
      ],
      "metadata": {
        "colab": {
          "base_uri": "https://localhost:8080/",
          "height": 377
        },
        "id": "WXwQz6A5jb1a",
        "outputId": "e99deb21-bafe-4f15-8295-685ee2b5a7ef"
      },
      "execution_count": null,
      "outputs": [
        {
          "output_type": "stream",
          "name": "stdout",
          "text": [
            "\n",
            "\n",
            "\u001b[1m> Entering new AgentExecutor chain...\u001b[0m\n",
            "\u001b[32;1m\u001b[1;3mAction:\n",
            "```\n",
            "{\n",
            "  \"action\": \"CompareHeadToHead\",\n",
            "  \"action_input\": {\n",
            "    \"athlete_x\": \"Kat Matthews\",\n",
            "    \"athlete_y\": \"Laura Philipp\"\n",
            "  }\n",
            "}\n",
            "```\u001b[0m\n",
            "Observation: \u001b[33;1m\u001b[1;3m{'athlete_x': 'Kat Matthews', 'athlete_y': 'Laura Philipp', 'athlete_x_wins': 0, 'athlete_y_wins': 2, 'races_compared': 2}\u001b[0m\n",
            "Thought:\u001b[32;1m\u001b[1;3mKat Matthews and Laura Philipp have competed against each other in 2 races. Laura Philipp finished ahead of Kat Matthews in both races.\u001b[0m\n",
            "\n",
            "\u001b[1m> Finished chain.\u001b[0m\n"
          ]
        },
        {
          "output_type": "execute_result",
          "data": {
            "text/plain": [
              "'Kat Matthews and Laura Philipp have competed against each other in 2 races. Laura Philipp finished ahead of Kat Matthews in both races.'"
            ],
            "application/vnd.google.colaboratory.intrinsic+json": {
              "type": "string"
            }
          },
          "metadata": {},
          "execution_count": 32
        }
      ]
    },
    {
      "cell_type": "code",
      "source": [
        "query_graph(\"Who are Kathryn Mhatre's top 10 competitors?\")"
      ],
      "metadata": {
        "colab": {
          "base_uri": "https://localhost:8080/",
          "height": 484
        },
        "id": "w4tOPrDsc4IB",
        "outputId": "82be4e7c-1410-4f86-8eb4-7492037bf64f"
      },
      "execution_count": null,
      "outputs": [
        {
          "output_type": "stream",
          "name": "stdout",
          "text": [
            "\n",
            "\n",
            "\u001b[1m> Entering new AgentExecutor chain...\u001b[0m\n",
            "\u001b[32;1m\u001b[1;3mAction:\n",
            "```\n",
            "{\n",
            "  \"action\": \"GetTopXCompetitors\",\n",
            "  \"action_input\": {\n",
            "    \"athlete_name\": \"Kathryn Mhatre\",\n",
            "    \"top_x\": 10\n",
            "  }\n",
            "}\n",
            "```\u001b[0m\n",
            "Observation: \u001b[36;1m\u001b[1;3m[{'competitor': 'Ricky Guadarrama', 'num_races': 2, 'total_competitor_time': 37759, 'time_diff': 8}, {'competitor': 'Paige Dolan', 'num_races': 2, 'total_competitor_time': 37862, 'time_diff': 95}, {'competitor': 'Helena Fabregas', 'num_races': 2, 'total_competitor_time': 37628, 'time_diff': 139}, {'competitor': 'Derek Liou', 'num_races': 2, 'total_competitor_time': 37614, 'time_diff': 153}, {'competitor': 'Carly Hyland', 'num_races': 2, 'total_competitor_time': 37937, 'time_diff': 170}, {'competitor': 'Tyler Long', 'num_races': 2, 'total_competitor_time': 37586, 'time_diff': 181}, {'competitor': 'Hannah Orbach-Mandel', 'num_races': 2, 'total_competitor_time': 37553, 'time_diff': 214}, {'competitor': 'Jennifer Temperley', 'num_races': 2, 'total_competitor_time': 38030, 'time_diff': 263}, {'competitor': 'Daniel Rojas', 'num_races': 2, 'total_competitor_time': 38031, 'time_diff': 264}, {'competitor': 'Jenna Bullbrook', 'num_races': 2, 'total_competitor_time': 37501, 'time_diff': 266}]\u001b[0m\n",
            "Thought:\u001b[32;1m\u001b[1;3mAction:\n",
            "```\n",
            "{\n",
            "  \"action\": \"Final Answer\",\n",
            "  \"action_input\": \"Kathryn Mhatre's top 10 competitors are:\\n1. Ricky Guadarrama\\n2. Paige Dolan\\n3. Helena Fabregas\\n4. Derek Liou\\n5. Carly Hyland\\n6. Tyler Long\\n7. Hannah Orbach-Mandel\\n8. Jennifer Temperley\\n9. Daniel Rojas\\n10. Jenna Bullbrook\"\n",
            "}\n",
            "```\u001b[0m\n",
            "\n",
            "\u001b[1m> Finished chain.\u001b[0m\n"
          ]
        },
        {
          "output_type": "execute_result",
          "data": {
            "text/plain": [
              "\"Kathryn Mhatre's top 10 competitors are:\\n1. Ricky Guadarrama\\n2. Paige Dolan\\n3. Helena Fabregas\\n4. Derek Liou\\n5. Carly Hyland\\n6. Tyler Long\\n7. Hannah Orbach-Mandel\\n8. Jennifer Temperley\\n9. Daniel Rojas\\n10. Jenna Bullbrook\""
            ],
            "application/vnd.google.colaboratory.intrinsic+json": {
              "type": "string"
            }
          },
          "metadata": {},
          "execution_count": 27
        }
      ]
    },
    {
      "cell_type": "code",
      "source": [
        "query_graph(\"Please list the top 5 most influential athletes?\")"
      ],
      "metadata": {
        "colab": {
          "base_uri": "https://localhost:8080/",
          "height": 680
        },
        "id": "sZLoKBJGjHb9",
        "outputId": "0cee82c7-3b26-4bde-d017-6d1b2d440c65"
      },
      "execution_count": null,
      "outputs": [
        {
          "output_type": "stream",
          "name": "stdout",
          "text": [
            "\n",
            "\n",
            "\u001b[1m> Entering new AgentExecutor chain...\u001b[0m\n",
            "\u001b[32;1m\u001b[1;3mAction:\n",
            "```\n",
            "{\n",
            "  \"action\": \"GetMostInfluential\",\n",
            "  \"action_input\": {\n",
            "    \"node_type\": \"athlete\"\n",
            "  }\n",
            "}\n",
            "```\u001b[0m\n",
            "Observation: \u001b[38;5;200m\u001b[1;3m                          Race Name  PageRank\n",
            "81511            Hendrik Schuurmans  0.000035\n",
            "9122                      Tim Smith  0.000032\n",
            "13424                   Jason Smith  0.000031\n",
            "68341                  David Taylor  0.000031\n",
            "41619                   Jill Walker  0.000029\n",
            "...                             ...       ...\n",
            "15114                 Mariana Godoy  0.000004\n",
            "15130             Adriana Caballero  0.000004\n",
            "15134  Maria Emilia Ferraro Ferraro  0.000004\n",
            "15136              Susane Belkhiati  0.000004\n",
            "15095         Marie-Cristine Kaptan  0.000004\n",
            "\n",
            "[102544 rows x 2 columns]\u001b[0m\n",
            "Thought:\u001b[32;1m\u001b[1;3mAction:\n",
            "```\n",
            "{\n",
            "  \"action\": \"Final Answer\",\n",
            "  \"action_input\": \"The top 5 most influential athletes are:\\n1. Hendrik Schuurmans\\n2. Tim Smith\\n3. Jason Smith\\n4. David Taylor\\n5. Jill Walker\"\n",
            "}\n",
            "```\u001b[0m\n",
            "\n",
            "\u001b[1m> Finished chain.\u001b[0m\n"
          ]
        },
        {
          "output_type": "execute_result",
          "data": {
            "text/plain": [
              "'The top 5 most influential athletes are:\\n1. Hendrik Schuurmans\\n2. Tim Smith\\n3. Jason Smith\\n4. David Taylor\\n5. Jill Walker'"
            ],
            "application/vnd.google.colaboratory.intrinsic+json": {
              "type": "string"
            }
          },
          "metadata": {},
          "execution_count": 28
        }
      ]
    },
    {
      "cell_type": "code",
      "source": [
        "print(name_to_node(\"Kathryn Mhatre\"))"
      ],
      "metadata": {
        "colab": {
          "base_uri": "https://localhost:8080/"
        },
        "id": "w9n_jp1LDb4E",
        "outputId": "4dd0deda-a9ed-46ec-b999-3ddd8f7ceb3f"
      },
      "execution_count": null,
      "outputs": [
        {
          "output_type": "stream",
          "name": "stdout",
          "text": [
            "TriathlonGraph2024_node/16203\n"
          ]
        }
      ]
    },
    {
      "cell_type": "code",
      "source": [
        "query_graph(\"Can you give 3 race recommendations for Kat Matthews?\")"
      ],
      "metadata": {
        "colab": {
          "base_uri": "https://localhost:8080/",
          "height": 502
        },
        "id": "-9kiJFtqCzsq",
        "outputId": "37be3fce-5761-4aad-c770-e9a403169cc5"
      },
      "execution_count": null,
      "outputs": [
        {
          "output_type": "stream",
          "name": "stdout",
          "text": [
            "\n",
            "\n",
            "\u001b[1m> Entering new AgentExecutor chain...\u001b[0m\n",
            "\u001b[32;1m\u001b[1;3mAction:\n",
            "```\n",
            "{\n",
            "  \"action\": \"GetRaceRecommendations\",\n",
            "  \"action_input\": {\n",
            "    \"athlete_name\": \"Kat Matthews\",\n",
            "    \"top_n\": 3\n",
            "  }\n",
            "}\n",
            "```\u001b[0m\n",
            "Observation: \u001b[38;5;200m\u001b[1;3m[('Ironman 70.3 North Carolina (Ironman 70.3)', \"Similar Athlete's Raced Here\"), (\"Ironman 70.3 Coeur d'Alene (Ironman 70.3)\", 'Competitive Field'), ('Ironman Arizona (Ironman)', 'Competitive Field')]\u001b[0m\n",
            "Thought:\u001b[32;1m\u001b[1;3mAction:\n",
            "```\n",
            "{\n",
            "  \"action\": \"Final Answer\",\n",
            "  \"action_input\": \"Here are 3 race recommendations for Kat Matthews: 1. Ironman 70.3 North Carolina (Ironman 70.3) - Recommended because similar athletes raced here. 2. Ironman 70.3 Coeur d'Alene (Ironman 70.3) - Recommended due to its competitive field. 3. Ironman Arizona (Ironman) - Recommended due to its competitive field.\"\n",
            "}\n",
            "```\u001b[0m\n",
            "\n",
            "\u001b[1m> Finished chain.\u001b[0m\n"
          ]
        },
        {
          "output_type": "execute_result",
          "data": {
            "text/plain": [
              "\"Here are 3 race recommendations for Kat Matthews: 1. Ironman 70.3 North Carolina (Ironman 70.3) - Recommended because similar athletes raced here. 2. Ironman 70.3 Coeur d'Alene (Ironman 70.3) - Recommended due to its competitive field. 3. Ironman Arizona (Ironman) - Recommended due to its competitive field.\""
            ],
            "application/vnd.google.colaboratory.intrinsic+json": {
              "type": "string"
            }
          },
          "metadata": {},
          "execution_count": 30
        }
      ]
    },
    {
      "cell_type": "code",
      "source": [
        "query_graph(\"What are the names of the races Kathryn Mhatre participated in?\")"
      ],
      "metadata": {
        "colab": {
          "base_uri": "https://localhost:8080/",
          "height": 714
        },
        "id": "RmKzVjEpygUC",
        "outputId": "76fc542a-fbb1-45a8-9e6a-e0a031bf45a4"
      },
      "execution_count": null,
      "outputs": [
        {
          "output_type": "stream",
          "name": "stdout",
          "text": [
            "\n",
            "\n",
            "\u001b[1m> Entering new AgentExecutor chain...\u001b[0m\n",
            "\u001b[32;1m\u001b[1;3mThought: I need to translate the user's question into a query to find out the races Kathryn Mhatre participated in.\n",
            "Action:\n",
            "```\n",
            "{\n",
            "  \"action\": \"TextToAqlToText\",\n",
            "  \"action_input\": \"What are the names of the races Kathryn Mhatre participated in?\"\n",
            "}\n",
            "```\u001b[0m\n",
            "\n",
            "\u001b[1m> Entering new ArangoGraphQAChain chain...\u001b[0m\n",
            "AQL Query (1):\u001b[32;1m\u001b[1;3m\n",
            "WITH TriathlonGraph2024_node, TriathlonGraph2024_node_to_TriathlonGraph2024_node\n",
            "FOR athlete IN TriathlonGraph2024_node\n",
            "  FILTER athlete.name == \"Kathryn Mhatre\"\n",
            "  FOR race IN OUTBOUND athlete TriathlonGraph2024_node_to_TriathlonGraph2024_node\n",
            "    FILTER race.node_type == \"race\"\n",
            "    RETURN race.name\n",
            "\u001b[0m\n",
            "AQL Result:\n",
            "\u001b[32;1m\u001b[1;3m['IRONMAN 70.3 Morro Bay (Ironman 70.3)', 'IRONMAN 70.3 World Championship (Ironman 70.3)']\u001b[0m\n",
            "\n",
            "\u001b[1m> Finished chain.\u001b[0m\n",
            "\n",
            "Observation: \u001b[36;1m\u001b[1;3mKathryn Mhatre participated in the following races: IRONMAN 70.3 Morro Bay and IRONMAN 70.3 World Championship.\u001b[0m\n",
            "Thought:\u001b[32;1m\u001b[1;3mI know what to respond. \n",
            "\n",
            "Action:\n",
            "```\n",
            "{\n",
            "  \"action\": \"Final Answer\",\n",
            "  \"action_input\": \"Kathryn Mhatre participated in the following races: IRONMAN 70.3 Morro Bay and IRONMAN 70.3 World Championship.\"\n",
            "}\n",
            "```\u001b[0m\n",
            "\n",
            "\u001b[1m> Finished chain.\u001b[0m\n"
          ]
        },
        {
          "output_type": "execute_result",
          "data": {
            "text/plain": [
              "'Kathryn Mhatre participated in the following races: IRONMAN 70.3 Morro Bay and IRONMAN 70.3 World Championship.'"
            ],
            "application/vnd.google.colaboratory.intrinsic+json": {
              "type": "string"
            }
          },
          "metadata": {},
          "execution_count": 31
        }
      ]
    },
    {
      "cell_type": "markdown",
      "source": [
        "### Part 5: Building the UI"
      ],
      "metadata": {
        "id": "bOTrUlCYlsEW"
      }
    },
    {
      "cell_type": "code",
      "source": [
        "def plot_rivalry_graph(athlete_name):\n",
        "    \"\"\"\n",
        "    Generates a rivalry graph visualization for a given athlete.\n",
        "    \"\"\"\n",
        "    G = nx.Graph()\n",
        "\n",
        "    # Get athlete's top competitors\n",
        "    rivals = get_top_x_competitors(athlete_name, 10)\n",
        "\n",
        "    if not rivals:\n",
        "        return \"No rivalry data available for this athlete.\"\n",
        "\n",
        "    # Add the main athlete node\n",
        "    G.add_node(athlete_name, color=\"red\")\n",
        "    edge_labels = {}\n",
        "\n",
        "    # Add rival nodes and edges\n",
        "    for rival in rivals:\n",
        "        rival_name = rival[\"competitor\"]\n",
        "        num_races = compare_head_to_head(athlete_name, rival_name)['races_compared']\n",
        "        print(f\"rival_name: {rival_name}, athlete_name: {athlete_name}, num_races: {num_races}\")\n",
        "        G.add_node(rival_name, color=\"blue\")\n",
        "        G.add_edge(athlete_name, rival_name, weight=num_races)\n",
        "        edge_labels[(athlete_name, rival_name)] = num_races\n",
        "\n",
        "    # Visualization settings\n",
        "    plt.figure(figsize=(6, 6))\n",
        "    pos = nx.spring_layout(G, seed=42)\n",
        "    colors = [G.nodes[node][\"color\"] for node in G.nodes]\n",
        "\n",
        "    nx.draw(G, pos, with_labels=True, node_color=colors, edge_color=\"gray\", node_size=2000, font_size=10, width=2)\n",
        "\n",
        "    # **Ensure edge labels are drawn**\n",
        "    nx.draw_networkx_edge_labels(G, pos, edge_labels=edge_labels, font_size=9, font_color=\"black\")\n",
        "\n",
        "    plt.title(f\"Rivalry Graph for {athlete_name}\")\n",
        "\n",
        "    # Save & return image\n",
        "    img_path = \"/tmp/rivalry_graph.png\"\n",
        "    plt.savefig(img_path)\n",
        "    plt.close()\n",
        "    return img_path"
      ],
      "metadata": {
        "id": "OQfizXG84rv-"
      },
      "execution_count": null,
      "outputs": []
    },
    {
      "cell_type": "code",
      "source": [
        "def plot_most_influential(node_type):\n",
        "    \"\"\"\n",
        "    Generates a bar chart of the most influential athletes or races, ensuring names are fully visible.\n",
        "    \"\"\"\n",
        "    df = get_most_influential(node_type)\n",
        "\n",
        "    if df.empty:\n",
        "        return \"No influence data available.\"\n",
        "\n",
        "    # Select top 10 for visualization\n",
        "    top_df = df.head(10)\n",
        "\n",
        "    plt.figure(figsize=(12, 7))  # Increase width for more space\n",
        "    bars = plt.barh(top_df[\"Race Name\"], top_df[\"PageRank\"], color=\"skyblue\")\n",
        "\n",
        "    # Wrap text labels if they are too long\n",
        "    wrapped_labels = [textwrap.fill(label, width=20) for label in top_df[\"Race Name\"]]\n",
        "\n",
        "    ax = plt.gca()\n",
        "    ax.set_yticks(range(len(wrapped_labels)))\n",
        "    ax.set_yticklabels(wrapped_labels, fontsize=10, ha=\"right\")  # Align text to the right\n",
        "\n",
        "    plt.xlabel(\"Influence Score (PageRank)\", fontsize=12)\n",
        "    plt.title(f\"Top 10 Most Influential {node_type.capitalize()}s\", fontsize=14)\n",
        "\n",
        "    plt.gca().invert_yaxis()  # Show most influential at the top\n",
        "    plt.subplots_adjust(left=0.35)  # Shift left margin to prevent text cutoff\n",
        "    plt.tight_layout()  # Optimize spacing\n",
        "\n",
        "    # Save & return image\n",
        "    img_path = \"/tmp/influence_chart.png\"\n",
        "    plt.savefig(img_path, bbox_inches=\"tight\")  # Ensures text is fully included\n",
        "    plt.close()\n",
        "\n",
        "    return img_path\n",
        "\n",
        "\n"
      ],
      "metadata": {
        "id": "N9zLP6tw5BW-"
      },
      "execution_count": null,
      "outputs": []
    },
    {
      "cell_type": "code",
      "source": [
        "def get_race_recommendations_table(athlete_name):\n",
        "    \"\"\"\n",
        "    Generates a table of recommended races for an athlete.\n",
        "    \"\"\"\n",
        "    recommendations = get_race_recommendations(athlete_name, top_n=5)\n",
        "\n",
        "    if not recommendations:\n",
        "        return \"No recommendations available.\"\n",
        "\n",
        "    df = pd.DataFrame(recommendations, columns=[\"Race Name\", \"Recommendation Type\"])\n",
        "\n",
        "    return df\n"
      ],
      "metadata": {
        "id": "wruzh2Pe5Gv4"
      },
      "execution_count": null,
      "outputs": []
    },
    {
      "cell_type": "code",
      "source": [
        "# Define Gradio UI\n",
        "with gr.Blocks() as app:\n",
        "    gr.Markdown(\"# 🏊🚴🏃 Triathlon Rivalry & Insights Dashboard\")\n",
        "\n",
        "    with gr.Row():\n",
        "        query_input = gr.Textbox(label=\"Ask a Question\")\n",
        "        query_output = gr.Textbox(label=\"Answer\")\n",
        "        gr.Button(\"Submit\").click(query_graph, inputs=query_input, outputs=query_output)\n",
        "\n",
        "    gr.Markdown(\"### 🔥 Rivalry Network Graph\")\n",
        "    athlete_input_graph = gr.Textbox(label=\"Enter Athlete Name\")\n",
        "    rivalry_graph = gr.Image()\n",
        "    gr.Button(\"Show Rivalries\").click(plot_rivalry_graph, inputs=athlete_input_graph, outputs=rivalry_graph)\n",
        "\n",
        "    gr.Markdown(\"### 🏆 Most Influential Athletes or Races\")\n",
        "    node_type_dropdown = gr.Dropdown(choices=[\"athlete\", \"race\"], label=\"Select Type\")\n",
        "    influence_chart = gr.Image()\n",
        "    gr.Button(\"Show Influence Rankings\").click(plot_most_influential, inputs=node_type_dropdown, outputs=influence_chart)\n",
        "\n",
        "    gr.Markdown(\"### 🏅 Race Recommendations\")\n",
        "    athlete_input_rec = gr.Textbox(label=\"Enter Athlete Name\")\n",
        "    race_rec_table = gr.Dataframe()\n",
        "    gr.Button(\"Get Race Recommendations\").click(get_race_recommendations_table, inputs=athlete_input_rec, outputs=race_rec_table)\n",
        "\n",
        "# Launch the app\n",
        "app.launch(share=True)\n"
      ],
      "metadata": {
        "colab": {
          "base_uri": "https://localhost:8080/",
          "height": 612
        },
        "id": "Ce6xqmrV5LRV",
        "outputId": "acb819ed-560d-4dea-a610-f0530b6898f9"
      },
      "execution_count": null,
      "outputs": [
        {
          "output_type": "stream",
          "name": "stdout",
          "text": [
            "Colab notebook detected. To show errors in colab notebook, set debug=True in launch()\n",
            "* Running on public URL: https://511aafb8da6bea677f.gradio.live\n",
            "\n",
            "This share link expires in 72 hours. For free permanent hosting and GPU upgrades, run `gradio deploy` from the terminal in the working directory to deploy to Hugging Face Spaces (https://huggingface.co/spaces)\n"
          ]
        },
        {
          "output_type": "display_data",
          "data": {
            "text/plain": [
              "<IPython.core.display.HTML object>"
            ],
            "text/html": [
              "<div><iframe src=\"https://511aafb8da6bea677f.gradio.live\" width=\"100%\" height=\"500\" allow=\"autoplay; camera; microphone; clipboard-read; clipboard-write;\" frameborder=\"0\" allowfullscreen></iframe></div>"
            ]
          },
          "metadata": {}
        },
        {
          "output_type": "execute_result",
          "data": {
            "text/plain": []
          },
          "metadata": {},
          "execution_count": 29
        }
      ]
    }
  ]
}